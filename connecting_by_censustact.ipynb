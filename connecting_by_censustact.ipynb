{
 "cells": [
  {
   "cell_type": "markdown",
   "metadata": {},
   "source": [
    "## Data Preparation for further analysis -Toronto Crime Analysis"
   ]
  },
  {
   "cell_type": "markdown",
   "metadata": {},
   "source": [
    "### Link Toronto neighborhoods from MCI dataset to census tracts of census Canada from Statcanada"
   ]
  },
  {
   "cell_type": "code",
   "execution_count": 1,
   "metadata": {},
   "outputs": [],
   "source": [
    "import pandas as pd\n",
    "import requests\n",
    "import json"
   ]
  },
  {
   "cell_type": "code",
   "execution_count": 2,
   "metadata": {},
   "outputs": [
    {
     "data": {
      "text/html": [
       "<div>\n",
       "<style scoped>\n",
       "    .dataframe tbody tr th:only-of-type {\n",
       "        vertical-align: middle;\n",
       "    }\n",
       "\n",
       "    .dataframe tbody tr th {\n",
       "        vertical-align: top;\n",
       "    }\n",
       "\n",
       "    .dataframe thead th {\n",
       "        text-align: right;\n",
       "    }\n",
       "</style>\n",
       "<table border=\"1\" class=\"dataframe\">\n",
       "  <thead>\n",
       "    <tr style=\"text-align: right;\">\n",
       "      <th></th>\n",
       "      <th>X</th>\n",
       "      <th>Y</th>\n",
       "      <th>Index_</th>\n",
       "      <th>event_unique_id</th>\n",
       "      <th>occurrencedate</th>\n",
       "      <th>reporteddate</th>\n",
       "      <th>premisetype</th>\n",
       "      <th>ucr_code</th>\n",
       "      <th>ucr_ext</th>\n",
       "      <th>offence</th>\n",
       "      <th>...</th>\n",
       "      <th>occurrencedayofyear</th>\n",
       "      <th>occurrencedayofweek</th>\n",
       "      <th>occurrencehour</th>\n",
       "      <th>MCI</th>\n",
       "      <th>Division</th>\n",
       "      <th>Hood_ID</th>\n",
       "      <th>Neighbourhood</th>\n",
       "      <th>Lat</th>\n",
       "      <th>Long</th>\n",
       "      <th>ObjectId</th>\n",
       "    </tr>\n",
       "  </thead>\n",
       "  <tbody>\n",
       "    <tr>\n",
       "      <th>0</th>\n",
       "      <td>-79.385193</td>\n",
       "      <td>43.659229</td>\n",
       "      <td>2349</td>\n",
       "      <td>GO-20149004286</td>\n",
       "      <td>2014-06-20T10:55:00.000Z</td>\n",
       "      <td>2014-06-20T13:20:00.000Z</td>\n",
       "      <td>Apartment</td>\n",
       "      <td>2130</td>\n",
       "      <td>210</td>\n",
       "      <td>Theft Over</td>\n",
       "      <td>...</td>\n",
       "      <td>171.0</td>\n",
       "      <td>Friday</td>\n",
       "      <td>10</td>\n",
       "      <td>Theft Over</td>\n",
       "      <td>D52</td>\n",
       "      <td>76</td>\n",
       "      <td>Bay Street Corridor (76)</td>\n",
       "      <td>43.659229</td>\n",
       "      <td>-79.385193</td>\n",
       "      <td>2001</td>\n",
       "    </tr>\n",
       "    <tr>\n",
       "      <th>1</th>\n",
       "      <td>-79.425400</td>\n",
       "      <td>43.777592</td>\n",
       "      <td>2350</td>\n",
       "      <td>GO-20142411379</td>\n",
       "      <td>2014-07-02T00:20:00.000Z</td>\n",
       "      <td>2014-07-02T02:58:00.000Z</td>\n",
       "      <td>Outside</td>\n",
       "      <td>1457</td>\n",
       "      <td>100</td>\n",
       "      <td>Pointing A Firearm</td>\n",
       "      <td>...</td>\n",
       "      <td>183.0</td>\n",
       "      <td>Wednesday</td>\n",
       "      <td>0</td>\n",
       "      <td>Assault</td>\n",
       "      <td>D32</td>\n",
       "      <td>36</td>\n",
       "      <td>Newtonbrook West (36)</td>\n",
       "      <td>43.777592</td>\n",
       "      <td>-79.425400</td>\n",
       "      <td>2002</td>\n",
       "    </tr>\n",
       "  </tbody>\n",
       "</table>\n",
       "<p>2 rows × 29 columns</p>\n",
       "</div>"
      ],
      "text/plain": [
       "           X          Y  Index_ event_unique_id            occurrencedate  \\\n",
       "0 -79.385193  43.659229    2349  GO-20149004286  2014-06-20T10:55:00.000Z   \n",
       "1 -79.425400  43.777592    2350  GO-20142411379  2014-07-02T00:20:00.000Z   \n",
       "\n",
       "               reporteddate premisetype  ucr_code  ucr_ext  \\\n",
       "0  2014-06-20T13:20:00.000Z   Apartment      2130      210   \n",
       "1  2014-07-02T02:58:00.000Z     Outside      1457      100   \n",
       "\n",
       "              offence  ...  occurrencedayofyear occurrencedayofweek  \\\n",
       "0          Theft Over  ...                171.0          Friday       \n",
       "1  Pointing A Firearm  ...                183.0          Wednesday    \n",
       "\n",
       "   occurrencehour         MCI Division  Hood_ID             Neighbourhood  \\\n",
       "0              10  Theft Over      D52       76  Bay Street Corridor (76)   \n",
       "1               0     Assault      D32       36     Newtonbrook West (36)   \n",
       "\n",
       "         Lat       Long  ObjectId  \n",
       "0  43.659229 -79.385193      2001  \n",
       "1  43.777592 -79.425400      2002  \n",
       "\n",
       "[2 rows x 29 columns]"
      ]
     },
     "execution_count": 2,
     "metadata": {},
     "output_type": "execute_result"
    }
   ],
   "source": [
    "# import the major crimes csv\n",
    "mci_df = pd.read_csv('C:/Users/Melkamu/OneDrive - University of Kwazulu-Natal/Season7/YU/Course 1/Project 1/Melkamu/Dataset/From Toronto Police acessed on Feb 02_2020/MCI_2014_to_2018.csv')\n",
    "mci_df.head(2)"
   ]
  },
  {
   "cell_type": "code",
   "execution_count": 3,
   "metadata": {},
   "outputs": [
    {
     "data": {
      "text/plain": [
       "140"
      ]
     },
     "execution_count": 3,
     "metadata": {},
     "output_type": "execute_result"
    }
   ],
   "source": [
    "mci_df['Hood_ID'].nunique()\n",
    "# crimes data has 140 neighborhoods"
   ]
  },
  {
   "cell_type": "code",
   "execution_count": 4,
   "metadata": {},
   "outputs": [
    {
     "data": {
      "text/plain": [
       "167525"
      ]
     },
     "execution_count": 4,
     "metadata": {},
     "output_type": "execute_result"
    }
   ],
   "source": [
    "len(mci_df)"
   ]
  },
  {
   "cell_type": "markdown",
   "metadata": {},
   "source": [
    "#### Crime data has 167525 incidents, each incident has a neighborhood ID\n",
    "#### Data from Canada Census API must be fetched per geographical area, the smallest area you can pull is a census tract. \n",
    "#### Before we start fetching census data, let's get a list of the census tracts that we require"
   ]
  },
  {
   "cell_type": "markdown",
   "metadata": {},
   "source": [
    "#### First, we need a way to convert between neighborhood ID and census tract. Found a CSV file with the conversion."
   ]
  },
  {
   "cell_type": "code",
   "execution_count": 54,
   "metadata": {},
   "outputs": [],
   "source": [
    "merger1= pd.read_csv('C:/Users/Melkamu/OneDrive - University of Kwazulu-Natal/Season7/YU/Course 1/Project 1/Melkamu/Dataset/From Toronto Police acessed on Feb 02_2020/Cleaning and preparation/CensusTractsProfileToronto.csv') "
   ]
  },
  {
   "cell_type": "code",
   "execution_count": 55,
   "metadata": {},
   "outputs": [
    {
     "data": {
      "text/html": [
       "<div>\n",
       "<style scoped>\n",
       "    .dataframe tbody tr th:only-of-type {\n",
       "        vertical-align: middle;\n",
       "    }\n",
       "\n",
       "    .dataframe tbody tr th {\n",
       "        vertical-align: top;\n",
       "    }\n",
       "\n",
       "    .dataframe thead th {\n",
       "        text-align: right;\n",
       "    }\n",
       "</style>\n",
       "<table border=\"1\" class=\"dataframe\">\n",
       "  <thead>\n",
       "    <tr style=\"text-align: right;\">\n",
       "      <th></th>\n",
       "      <th>CT UID - Census Tract Unique Identifier\\n(\"CMA Code\"+\"0\"+\"Census Tract ID\"),\\nn=531</th>\n",
       "      <th>CT ID - Census Tract Identifier,\\nn=531</th>\n",
       "      <th>Neighb ID, \\n n=140</th>\n",
       "      <th>Neighbourhood Name,\\n n=140</th>\n",
       "      <th>CPA ID,\\nn=46</th>\n",
       "      <th>CPA Name \\n(Community Planning Area),\\n n=46</th>\n",
       "      <th>Sub-LHIN ID,\\nn=14</th>\n",
       "      <th>Sub-LHIN Name, \\nn=14</th>\n",
       "      <th>LHIN ID,\\nn=5</th>\n",
       "      <th>LHIN Name, \\nn=5</th>\n",
       "    </tr>\n",
       "  </thead>\n",
       "  <tbody>\n",
       "    <tr>\n",
       "      <th>0</th>\n",
       "      <td>5350001.0</td>\n",
       "      <td>1.0</td>\n",
       "      <td>70</td>\n",
       "      <td>South Riverdale</td>\n",
       "      <td>752</td>\n",
       "      <td>South Riverdale Greenwood</td>\n",
       "      <td>705</td>\n",
       "      <td>South East</td>\n",
       "      <td>7</td>\n",
       "      <td>Toronto Central</td>\n",
       "    </tr>\n",
       "    <tr>\n",
       "      <th>1</th>\n",
       "      <td>5350002.0</td>\n",
       "      <td>2.0</td>\n",
       "      <td>77</td>\n",
       "      <td>Waterfront Communities-The Island</td>\n",
       "      <td>733</td>\n",
       "      <td>Downtown Centre</td>\n",
       "      <td>703</td>\n",
       "      <td>South West</td>\n",
       "      <td>7</td>\n",
       "      <td>Toronto Central</td>\n",
       "    </tr>\n",
       "    <tr>\n",
       "      <th>2</th>\n",
       "      <td>5350003.0</td>\n",
       "      <td>3.0</td>\n",
       "      <td>85</td>\n",
       "      <td>South Parkdale</td>\n",
       "      <td>731</td>\n",
       "      <td>Parkdale Roncesvalles</td>\n",
       "      <td>703</td>\n",
       "      <td>South West</td>\n",
       "      <td>7</td>\n",
       "      <td>Toronto Central</td>\n",
       "    </tr>\n",
       "  </tbody>\n",
       "</table>\n",
       "</div>"
      ],
      "text/plain": [
       "    CT UID - Census Tract Unique Identifier\\n(\"CMA Code\"+\"0\"+\"Census Tract ID\"),\\nn=531  \\\n",
       "0                                          5350001.0                                      \n",
       "1                                          5350002.0                                      \n",
       "2                                          5350003.0                                      \n",
       "\n",
       "   CT ID - Census Tract Identifier,\\nn=531  Neighb ID, \\n n=140  \\\n",
       "0                                      1.0                   70   \n",
       "1                                      2.0                   77   \n",
       "2                                      3.0                   85   \n",
       "\n",
       "         Neighbourhood Name,\\n n=140  CPA ID,\\nn=46  \\\n",
       "0                    South Riverdale            752   \n",
       "1  Waterfront Communities-The Island            733   \n",
       "2                     South Parkdale            731   \n",
       "\n",
       "  CPA Name \\n(Community Planning Area),\\n n=46  Sub-LHIN ID,\\nn=14  \\\n",
       "0                    South Riverdale Greenwood                 705   \n",
       "1                              Downtown Centre                 703   \n",
       "2                        Parkdale Roncesvalles                 703   \n",
       "\n",
       "  Sub-LHIN Name, \\nn=14  LHIN ID,\\nn=5 LHIN Name, \\nn=5  \n",
       "0            South East              7  Toronto Central  \n",
       "1            South West              7  Toronto Central  \n",
       "2            South West              7  Toronto Central  "
      ]
     },
     "execution_count": 55,
     "metadata": {},
     "output_type": "execute_result"
    }
   ],
   "source": [
    "merger1_df = pd.DataFrame(merger1)\n",
    "merger1_df.head(3)"
   ]
  },
  {
   "cell_type": "code",
   "execution_count": 56,
   "metadata": {},
   "outputs": [
    {
     "data": {
      "text/plain": [
       "Index([' CT UID - Census Tract Unique Identifier\\n(\"CMA Code\"+\"0\"+\"Census Tract ID\"),\\nn=531',\n",
       "       'CT ID - Census Tract Identifier,\\nn=531', 'Neighb ID, \\n n=140',\n",
       "       'Neighbourhood Name,\\n n=140', 'CPA ID,\\nn=46',\n",
       "       'CPA Name \\n(Community Planning Area),\\n n=46', 'Sub-LHIN ID,\\nn=14',\n",
       "       'Sub-LHIN Name, \\nn=14', 'LHIN ID,\\nn=5', 'LHIN Name, \\nn=5'],\n",
       "      dtype='object')"
      ]
     },
     "execution_count": 56,
     "metadata": {},
     "output_type": "execute_result"
    }
   ],
   "source": [
    "merger1_df.columns"
   ]
  },
  {
   "cell_type": "code",
   "execution_count": 64,
   "metadata": {},
   "outputs": [],
   "source": [
    "# rename the columns we need\n",
    "selected_merger1_df = merger1_df.rename(columns={' CT UID - Census Tract Unique Identifier\\n(\"CMA Code\"+\"0\"+\"Census Tract ID\"),\\nn=531':'census_tract',\n",
    "                             'Neighb ID, \\n n=140':'Hood_ID',\n",
    "                             'Neighbourhood Name,\\n n=140': 'Neighbourhood'})\n",
    "                                                 \n",
    "#'CPA Name,\\n n=46': 'CPA','Sub-LHIN Name,\\n n=14': 'Sub_LHIN','LHIN Name,\\n n=5': 'LHIN'})"
   ]
  },
  {
   "cell_type": "code",
   "execution_count": 69,
   "metadata": {
    "scrolled": true
   },
   "outputs": [],
   "source": [
    "# extract the columns we need\n",
    "merger1_df = selected_merger1_df[['census_tract', 'Hood_ID', 'Neighbourhood']]"
   ]
  },
  {
   "cell_type": "code",
   "execution_count": 70,
   "metadata": {},
   "outputs": [
    {
     "data": {
      "text/html": [
       "<div>\n",
       "<style scoped>\n",
       "    .dataframe tbody tr th:only-of-type {\n",
       "        vertical-align: middle;\n",
       "    }\n",
       "\n",
       "    .dataframe tbody tr th {\n",
       "        vertical-align: top;\n",
       "    }\n",
       "\n",
       "    .dataframe thead th {\n",
       "        text-align: right;\n",
       "    }\n",
       "</style>\n",
       "<table border=\"1\" class=\"dataframe\">\n",
       "  <thead>\n",
       "    <tr style=\"text-align: right;\">\n",
       "      <th></th>\n",
       "      <th>census_tract</th>\n",
       "      <th>Hood_ID</th>\n",
       "      <th>Neighbourhood</th>\n",
       "    </tr>\n",
       "  </thead>\n",
       "  <tbody>\n",
       "    <tr>\n",
       "      <th>0</th>\n",
       "      <td>5350001.0</td>\n",
       "      <td>70</td>\n",
       "      <td>South Riverdale</td>\n",
       "    </tr>\n",
       "    <tr>\n",
       "      <th>1</th>\n",
       "      <td>5350002.0</td>\n",
       "      <td>77</td>\n",
       "      <td>Waterfront Communities-The Island</td>\n",
       "    </tr>\n",
       "    <tr>\n",
       "      <th>2</th>\n",
       "      <td>5350003.0</td>\n",
       "      <td>85</td>\n",
       "      <td>South Parkdale</td>\n",
       "    </tr>\n",
       "  </tbody>\n",
       "</table>\n",
       "</div>"
      ],
      "text/plain": [
       "   census_tract  Hood_ID                      Neighbourhood\n",
       "0     5350001.0       70                    South Riverdale\n",
       "1     5350002.0       77  Waterfront Communities-The Island\n",
       "2     5350003.0       85                     South Parkdale"
      ]
     },
     "execution_count": 70,
     "metadata": {},
     "output_type": "execute_result"
    }
   ],
   "source": [
    "merger1_df.head(3)"
   ]
  },
  {
   "cell_type": "code",
   "execution_count": 71,
   "metadata": {},
   "outputs": [
    {
     "data": {
      "text/plain": [
       "140"
      ]
     },
     "execution_count": 71,
     "metadata": {},
     "output_type": "execute_result"
    }
   ],
   "source": [
    "merger1_df['Hood_ID'].nunique()\n",
    "# converstion df also has 140 neighborhoods, yay!"
   ]
  },
  {
   "cell_type": "code",
   "execution_count": 72,
   "metadata": {},
   "outputs": [
    {
     "data": {
      "text/plain": [
       "531"
      ]
     },
     "execution_count": 72,
     "metadata": {},
     "output_type": "execute_result"
    }
   ],
   "source": [
    "merger1_df['census_tract'].nunique()\n",
    "# they are divided into 531 census tracts"
   ]
  },
  {
   "cell_type": "code",
   "execution_count": 74,
   "metadata": {},
   "outputs": [
    {
     "data": {
      "text/plain": [
       "288    Flemingdon Park\n",
       "289    Flemingdon Park\n",
       "290    Flemingdon Park\n",
       "291    Flemingdon Park\n",
       "Name: Neighbourhood, dtype: object"
      ]
     },
     "execution_count": 74,
     "metadata": {},
     "output_type": "execute_result"
    }
   ],
   "source": [
    "# lets do a quick test to make sure that the neighborhood id's are equivalent to the MCI id's\n",
    "# we can test name of neighborhood for a given neighborhood id from each dataframe\n",
    "merger1_df['Neighbourhood'][merger1_df['Hood_ID']==44]"
   ]
  },
  {
   "cell_type": "code",
   "execution_count": 75,
   "metadata": {},
   "outputs": [
    {
     "data": {
      "text/plain": [
       "347       Flemingdon Park (44)\n",
       "475       Flemingdon Park (44)\n",
       "524       Flemingdon Park (44)\n",
       "578       Flemingdon Park (44)\n",
       "676       Flemingdon Park (44)\n",
       "                  ...         \n",
       "165771    Flemingdon Park (44)\n",
       "166519    Flemingdon Park (44)\n",
       "166783    Flemingdon Park (44)\n",
       "166845    Flemingdon Park (44)\n",
       "166888    Flemingdon Park (44)\n",
       "Name: Neighbourhood, Length: 1001, dtype: object"
      ]
     },
     "execution_count": 75,
     "metadata": {},
     "output_type": "execute_result"
    }
   ],
   "source": [
    "mci_df['Neighbourhood'][mci_df['Hood_ID']==44]"
   ]
  },
  {
   "cell_type": "markdown",
   "metadata": {},
   "source": [
    "### we won't join these dataframes yet because each neighborhood has several tracts (and we can't average tract ids)\n",
    "### so instead, we'll first get the metrics (eg. average income) for each cansus tracts, so that we can then average the metrics across tracts  per neighborhood"
   ]
  },
  {
   "cell_type": "markdown",
   "metadata": {},
   "source": [
    "#### We want to fetch the census data from stat canada api"
   ]
  },
  {
   "cell_type": "code",
   "execution_count": 76,
   "metadata": {},
   "outputs": [],
   "source": [
    "tracts_data = requests.get('https://www12.statcan.gc.ca/rest/census-recensement/CR2016Geo.json?lang=E&geos=CT&cpt=35')\n",
    "# where CT indicates census tracts, and 35 indicates ontario"
   ]
  },
  {
   "cell_type": "code",
   "execution_count": null,
   "metadata": {},
   "outputs": [],
   "source": [
    "# won't convert to json nicely, look at data\n",
    "#tracts_data.text"
   ]
  },
  {
   "cell_type": "code",
   "execution_count": 96,
   "metadata": {},
   "outputs": [],
   "source": [
    "tracts_text = tracts_data.text.replace('//','')\n",
    "#tracts_text"
   ]
  },
  {
   "cell_type": "code",
   "execution_count": 97,
   "metadata": {},
   "outputs": [],
   "source": [
    "tracts_data = json.loads(tracts_text)\n",
    "#pprint(tracts_data)"
   ]
  },
  {
   "cell_type": "code",
   "execution_count": 98,
   "metadata": {},
   "outputs": [],
   "source": [
    "# to df\n",
    "tracts_df = pd.DataFrame.from_dict(tracts_data['DATA'])\n",
    "tracts_df.columns=tracts_data['COLUMNS']"
   ]
  },
  {
   "cell_type": "code",
   "execution_count": 99,
   "metadata": {},
   "outputs": [
    {
     "data": {
      "text/html": [
       "<div>\n",
       "<style scoped>\n",
       "    .dataframe tbody tr th:only-of-type {\n",
       "        vertical-align: middle;\n",
       "    }\n",
       "\n",
       "    .dataframe tbody tr th {\n",
       "        vertical-align: top;\n",
       "    }\n",
       "\n",
       "    .dataframe thead th {\n",
       "        text-align: right;\n",
       "    }\n",
       "</style>\n",
       "<table border=\"1\" class=\"dataframe\">\n",
       "  <thead>\n",
       "    <tr style=\"text-align: right;\">\n",
       "      <th></th>\n",
       "      <th>GEO_UID</th>\n",
       "      <th>GEO_ID_CODE</th>\n",
       "    </tr>\n",
       "  </thead>\n",
       "  <tbody>\n",
       "    <tr>\n",
       "      <th>0</th>\n",
       "      <td>2016S05075050001.01</td>\n",
       "      <td>5050001.01</td>\n",
       "    </tr>\n",
       "    <tr>\n",
       "      <th>1</th>\n",
       "      <td>2016S05075050001.04</td>\n",
       "      <td>5050001.04</td>\n",
       "    </tr>\n",
       "    <tr>\n",
       "      <th>2</th>\n",
       "      <td>2016S05075050001.05</td>\n",
       "      <td>5050001.05</td>\n",
       "    </tr>\n",
       "  </tbody>\n",
       "</table>\n",
       "</div>"
      ],
      "text/plain": [
       "               GEO_UID GEO_ID_CODE\n",
       "0  2016S05075050001.01  5050001.01\n",
       "1  2016S05075050001.04  5050001.04\n",
       "2  2016S05075050001.05  5050001.05"
      ]
     },
     "execution_count": 99,
     "metadata": {},
     "output_type": "execute_result"
    }
   ],
   "source": [
    "# extract columns we need - only dguid and tract id\n",
    "tracts_df = tracts_df[['GEO_UID', 'GEO_ID_CODE']]\n",
    "tracts_df.head(3)"
   ]
  },
  {
   "cell_type": "code",
   "execution_count": 100,
   "metadata": {},
   "outputs": [
    {
     "data": {
      "text/plain": [
       "2376"
      ]
     },
     "execution_count": 100,
     "metadata": {},
     "output_type": "execute_result"
    }
   ],
   "source": [
    "len(tracts_df)\n",
    "# 2376 tracts in ontario, no need to use all"
   ]
  },
  {
   "cell_type": "markdown",
   "metadata": {},
   "source": [
    "#### Now we have the dguid for each tract code\n",
    "#### but this is for all of ontario, lets join with the neighborhood conversion df so that we only keep toronto ones"
   ]
  },
  {
   "cell_type": "code",
   "execution_count": 101,
   "metadata": {},
   "outputs": [],
   "source": [
    "# rename the tract column to be similar to the conversion df so that we can join them\n",
    "tracts_df = tracts_df.rename(columns={'GEO_ID_CODE':'census_tract'})"
   ]
  },
  {
   "cell_type": "code",
   "execution_count": null,
   "metadata": {},
   "outputs": [],
   "source": [
    "#toronto_tracts = merger1_df.join(tracts_df.set_index('census_tract'), on='census_tract')\n",
    "\n",
    "# error due to joining on different data types"
   ]
  },
  {
   "cell_type": "code",
   "execution_count": 105,
   "metadata": {},
   "outputs": [
    {
     "data": {
      "text/html": [
       "<div>\n",
       "<style scoped>\n",
       "    .dataframe tbody tr th:only-of-type {\n",
       "        vertical-align: middle;\n",
       "    }\n",
       "\n",
       "    .dataframe tbody tr th {\n",
       "        vertical-align: top;\n",
       "    }\n",
       "\n",
       "    .dataframe thead th {\n",
       "        text-align: right;\n",
       "    }\n",
       "</style>\n",
       "<table border=\"1\" class=\"dataframe\">\n",
       "  <thead>\n",
       "    <tr style=\"text-align: right;\">\n",
       "      <th></th>\n",
       "      <th>GEO_UID</th>\n",
       "      <th>census_tract</th>\n",
       "    </tr>\n",
       "  </thead>\n",
       "  <tbody>\n",
       "    <tr>\n",
       "      <th>0</th>\n",
       "      <td>2016S05075050001.01</td>\n",
       "      <td>5050001.01</td>\n",
       "    </tr>\n",
       "  </tbody>\n",
       "</table>\n",
       "</div>"
      ],
      "text/plain": [
       "               GEO_UID census_tract\n",
       "0  2016S05075050001.01   5050001.01"
      ]
     },
     "execution_count": 105,
     "metadata": {},
     "output_type": "execute_result"
    }
   ],
   "source": [
    "tracts_df.head(1)"
   ]
  },
  {
   "cell_type": "code",
   "execution_count": 106,
   "metadata": {},
   "outputs": [
    {
     "data": {
      "text/html": [
       "<div>\n",
       "<style scoped>\n",
       "    .dataframe tbody tr th:only-of-type {\n",
       "        vertical-align: middle;\n",
       "    }\n",
       "\n",
       "    .dataframe tbody tr th {\n",
       "        vertical-align: top;\n",
       "    }\n",
       "\n",
       "    .dataframe thead th {\n",
       "        text-align: right;\n",
       "    }\n",
       "</style>\n",
       "<table border=\"1\" class=\"dataframe\">\n",
       "  <thead>\n",
       "    <tr style=\"text-align: right;\">\n",
       "      <th></th>\n",
       "      <th>census_tract</th>\n",
       "      <th>Hood_ID</th>\n",
       "      <th>Neighbourhood</th>\n",
       "    </tr>\n",
       "  </thead>\n",
       "  <tbody>\n",
       "    <tr>\n",
       "      <th>0</th>\n",
       "      <td>5350001.0</td>\n",
       "      <td>70</td>\n",
       "      <td>South Riverdale</td>\n",
       "    </tr>\n",
       "  </tbody>\n",
       "</table>\n",
       "</div>"
      ],
      "text/plain": [
       "   census_tract  Hood_ID    Neighbourhood\n",
       "0     5350001.0       70  South Riverdale"
      ]
     },
     "execution_count": 106,
     "metadata": {},
     "output_type": "execute_result"
    }
   ],
   "source": [
    "merger1_df.head(1)"
   ]
  },
  {
   "cell_type": "code",
   "execution_count": 111,
   "metadata": {},
   "outputs": [
    {
     "data": {
      "text/plain": [
       "str"
      ]
     },
     "execution_count": 111,
     "metadata": {},
     "output_type": "execute_result"
    }
   ],
   "source": [
    "type(tracts_df['census_tract'][1])"
   ]
  },
  {
   "cell_type": "code",
   "execution_count": 112,
   "metadata": {},
   "outputs": [
    {
     "data": {
      "text/plain": [
       "numpy.float64"
      ]
     },
     "execution_count": 112,
     "metadata": {},
     "output_type": "execute_result"
    }
   ],
   "source": [
    "type(merger1_df['census_tract'][0])"
   ]
  },
  {
   "cell_type": "code",
   "execution_count": 29,
   "metadata": {},
   "outputs": [],
   "source": [
    "# one is str and one is float"
   ]
  },
  {
   "cell_type": "code",
   "execution_count": 113,
   "metadata": {},
   "outputs": [
    {
     "name": "stderr",
     "output_type": "stream",
     "text": [
      "C:\\Users\\Melkamu\\Anaconda3\\lib\\site-packages\\ipykernel_launcher.py:2: SettingWithCopyWarning: \n",
      "A value is trying to be set on a copy of a slice from a DataFrame.\n",
      "Try using .loc[row_indexer,col_indexer] = value instead\n",
      "\n",
      "See the caveats in the documentation: https://pandas.pydata.org/pandas-docs/stable/user_guide/indexing.html#returning-a-view-versus-a-copy\n",
      "  \n"
     ]
    }
   ],
   "source": [
    "# cast to str and try joining again\n",
    "merger1_df['census_tract'] = merger1_df['census_tract'].map(\"{0:.2f}\".format)"
   ]
  },
  {
   "cell_type": "code",
   "execution_count": 114,
   "metadata": {},
   "outputs": [
    {
     "data": {
      "text/html": [
       "<div>\n",
       "<style scoped>\n",
       "    .dataframe tbody tr th:only-of-type {\n",
       "        vertical-align: middle;\n",
       "    }\n",
       "\n",
       "    .dataframe tbody tr th {\n",
       "        vertical-align: top;\n",
       "    }\n",
       "\n",
       "    .dataframe thead th {\n",
       "        text-align: right;\n",
       "    }\n",
       "</style>\n",
       "<table border=\"1\" class=\"dataframe\">\n",
       "  <thead>\n",
       "    <tr style=\"text-align: right;\">\n",
       "      <th></th>\n",
       "      <th>census_tract</th>\n",
       "      <th>Hood_ID</th>\n",
       "      <th>Neighbourhood</th>\n",
       "      <th>GEO_UID</th>\n",
       "    </tr>\n",
       "  </thead>\n",
       "  <tbody>\n",
       "    <tr>\n",
       "      <th>0</th>\n",
       "      <td>5350001.00</td>\n",
       "      <td>70</td>\n",
       "      <td>South Riverdale</td>\n",
       "      <td>2016S05075350001.00</td>\n",
       "    </tr>\n",
       "    <tr>\n",
       "      <th>1</th>\n",
       "      <td>5350002.00</td>\n",
       "      <td>77</td>\n",
       "      <td>Waterfront Communities-The Island</td>\n",
       "      <td>2016S05075350002.00</td>\n",
       "    </tr>\n",
       "    <tr>\n",
       "      <th>2</th>\n",
       "      <td>5350003.00</td>\n",
       "      <td>85</td>\n",
       "      <td>South Parkdale</td>\n",
       "      <td>2016S05075350003.00</td>\n",
       "    </tr>\n",
       "  </tbody>\n",
       "</table>\n",
       "</div>"
      ],
      "text/plain": [
       "  census_tract  Hood_ID                      Neighbourhood  \\\n",
       "0   5350001.00       70                    South Riverdale   \n",
       "1   5350002.00       77  Waterfront Communities-The Island   \n",
       "2   5350003.00       85                     South Parkdale   \n",
       "\n",
       "               GEO_UID  \n",
       "0  2016S05075350001.00  \n",
       "1  2016S05075350002.00  \n",
       "2  2016S05075350003.00  "
      ]
     },
     "execution_count": 114,
     "metadata": {},
     "output_type": "execute_result"
    }
   ],
   "source": [
    "toronto_tracts = merger1_df.join(tracts_df.set_index('census_tract'), on='census_tract', how='inner')\n",
    "toronto_tracts.head(3)"
   ]
  },
  {
   "cell_type": "code",
   "execution_count": 115,
   "metadata": {},
   "outputs": [],
   "source": [
    "##DGUID-Dissemination Geography Unique Identifier\n",
    "toronto_tracts = toronto_tracts.rename(columns={'GEO_UID':'DGUID'})"
   ]
  },
  {
   "cell_type": "code",
   "execution_count": 116,
   "metadata": {},
   "outputs": [
    {
     "data": {
      "text/html": [
       "<div>\n",
       "<style scoped>\n",
       "    .dataframe tbody tr th:only-of-type {\n",
       "        vertical-align: middle;\n",
       "    }\n",
       "\n",
       "    .dataframe tbody tr th {\n",
       "        vertical-align: top;\n",
       "    }\n",
       "\n",
       "    .dataframe thead th {\n",
       "        text-align: right;\n",
       "    }\n",
       "</style>\n",
       "<table border=\"1\" class=\"dataframe\">\n",
       "  <thead>\n",
       "    <tr style=\"text-align: right;\">\n",
       "      <th></th>\n",
       "      <th>census_tract</th>\n",
       "      <th>Hood_ID</th>\n",
       "      <th>Neighbourhood</th>\n",
       "      <th>DGUID</th>\n",
       "    </tr>\n",
       "  </thead>\n",
       "  <tbody>\n",
       "    <tr>\n",
       "      <th>0</th>\n",
       "      <td>5350001.00</td>\n",
       "      <td>70</td>\n",
       "      <td>South Riverdale</td>\n",
       "      <td>2016S05075350001.00</td>\n",
       "    </tr>\n",
       "    <tr>\n",
       "      <th>1</th>\n",
       "      <td>5350002.00</td>\n",
       "      <td>77</td>\n",
       "      <td>Waterfront Communities-The Island</td>\n",
       "      <td>2016S05075350002.00</td>\n",
       "    </tr>\n",
       "    <tr>\n",
       "      <th>2</th>\n",
       "      <td>5350003.00</td>\n",
       "      <td>85</td>\n",
       "      <td>South Parkdale</td>\n",
       "      <td>2016S05075350003.00</td>\n",
       "    </tr>\n",
       "  </tbody>\n",
       "</table>\n",
       "</div>"
      ],
      "text/plain": [
       "  census_tract  Hood_ID                      Neighbourhood  \\\n",
       "0   5350001.00       70                    South Riverdale   \n",
       "1   5350002.00       77  Waterfront Communities-The Island   \n",
       "2   5350003.00       85                     South Parkdale   \n",
       "\n",
       "                 DGUID  \n",
       "0  2016S05075350001.00  \n",
       "1  2016S05075350002.00  \n",
       "2  2016S05075350003.00  "
      ]
     },
     "execution_count": 116,
     "metadata": {},
     "output_type": "execute_result"
    }
   ],
   "source": [
    "toronto_tracts.head(3)"
   ]
  },
  {
   "cell_type": "code",
   "execution_count": 117,
   "metadata": {},
   "outputs": [
    {
     "data": {
      "text/plain": [
       "494"
      ]
     },
     "execution_count": 117,
     "metadata": {},
     "output_type": "execute_result"
    }
   ],
   "source": [
    "len(toronto_tracts)\n",
    "# 494 dguids (down from 531, some were not in the census tracts data, possibly due to change of tract codes over years)"
   ]
  },
  {
   "cell_type": "code",
   "execution_count": 119,
   "metadata": {},
   "outputs": [],
   "source": [
    "# output to csv\n",
    "toronto_tracts.to_csv('C:/Users/Melkamu/OneDrive - University of Kwazulu-Natal/Season7/YU/Course 1/Project 1/Melkamu/Dataset/From Toronto Police acessed on Feb 02_2020/Cleaning and preparation/toronto_tracts.csv', index=False)"
   ]
  },
  {
   "cell_type": "code",
   "execution_count": 38,
   "metadata": {},
   "outputs": [],
   "source": [
    "# conversion is ready to be used by analysis notebooks"
   ]
  },
  {
   "cell_type": "code",
   "execution_count": null,
   "metadata": {},
   "outputs": [],
   "source": []
  }
 ],
 "metadata": {
  "kernelspec": {
   "display_name": "Python 3",
   "language": "python",
   "name": "python3"
  },
  "language_info": {
   "codemirror_mode": {
    "name": "ipython",
    "version": 3
   },
   "file_extension": ".py",
   "mimetype": "text/x-python",
   "name": "python",
   "nbconvert_exporter": "python",
   "pygments_lexer": "ipython3",
   "version": "3.7.6"
  }
 },
 "nbformat": 4,
 "nbformat_minor": 4
}
