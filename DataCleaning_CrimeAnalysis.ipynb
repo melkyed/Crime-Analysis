{
 "cells": [
  {
   "cell_type": "markdown",
   "metadata": {},
   "source": [
    "Toronto Crime analysis"
   ]
  },
  {
   "cell_type": "code",
   "execution_count": 10,
   "metadata": {},
   "outputs": [],
   "source": [
    "import numpy as np \n",
    "import pandas as pd \n",
    "import seaborn as sns\n",
    "import matplotlib.pyplot as plt\n",
    "%matplotlib inline\n",
    "import calendar\n",
    "from datetime import datetime\n",
    "plt.style.use('seaborn')"
   ]
  },
  {
   "cell_type": "markdown",
   "metadata": {},
   "source": [
    "Read dataset"
   ]
  },
  {
   "cell_type": "code",
   "execution_count": 11,
   "metadata": {},
   "outputs": [
    {
     "data": {
      "text/html": [
       "<div>\n",
       "<style scoped>\n",
       "    .dataframe tbody tr th:only-of-type {\n",
       "        vertical-align: middle;\n",
       "    }\n",
       "\n",
       "    .dataframe tbody tr th {\n",
       "        vertical-align: top;\n",
       "    }\n",
       "\n",
       "    .dataframe thead th {\n",
       "        text-align: right;\n",
       "    }\n",
       "</style>\n",
       "<table border=\"1\" class=\"dataframe\">\n",
       "  <thead>\n",
       "    <tr style=\"text-align: right;\">\n",
       "      <th></th>\n",
       "      <th>X</th>\n",
       "      <th>Y</th>\n",
       "      <th>Index_</th>\n",
       "      <th>event_unique_id</th>\n",
       "      <th>occurrencedate</th>\n",
       "      <th>reporteddate</th>\n",
       "      <th>premisetype</th>\n",
       "      <th>ucr_code</th>\n",
       "      <th>ucr_ext</th>\n",
       "      <th>offence</th>\n",
       "      <th>...</th>\n",
       "      <th>occurrencedayofyear</th>\n",
       "      <th>occurrencedayofweek</th>\n",
       "      <th>occurrencehour</th>\n",
       "      <th>MCI</th>\n",
       "      <th>Division</th>\n",
       "      <th>Hood_ID</th>\n",
       "      <th>Neighbourhood</th>\n",
       "      <th>Lat</th>\n",
       "      <th>Long</th>\n",
       "      <th>ObjectId</th>\n",
       "    </tr>\n",
       "  </thead>\n",
       "  <tbody>\n",
       "    <tr>\n",
       "      <th>0</th>\n",
       "      <td>-79.385193</td>\n",
       "      <td>43.659229</td>\n",
       "      <td>2349</td>\n",
       "      <td>GO-20149004286</td>\n",
       "      <td>2014-06-20T10:55:00.000Z</td>\n",
       "      <td>2014-06-20T13:20:00.000Z</td>\n",
       "      <td>Apartment</td>\n",
       "      <td>2130</td>\n",
       "      <td>210</td>\n",
       "      <td>Theft Over</td>\n",
       "      <td>...</td>\n",
       "      <td>171.0</td>\n",
       "      <td>Friday</td>\n",
       "      <td>10</td>\n",
       "      <td>Theft Over</td>\n",
       "      <td>D52</td>\n",
       "      <td>76</td>\n",
       "      <td>Bay Street Corridor (76)</td>\n",
       "      <td>43.659229</td>\n",
       "      <td>-79.385193</td>\n",
       "      <td>2001</td>\n",
       "    </tr>\n",
       "    <tr>\n",
       "      <th>1</th>\n",
       "      <td>-79.425400</td>\n",
       "      <td>43.777592</td>\n",
       "      <td>2350</td>\n",
       "      <td>GO-20142411379</td>\n",
       "      <td>2014-07-02T00:20:00.000Z</td>\n",
       "      <td>2014-07-02T02:58:00.000Z</td>\n",
       "      <td>Outside</td>\n",
       "      <td>1457</td>\n",
       "      <td>100</td>\n",
       "      <td>Pointing A Firearm</td>\n",
       "      <td>...</td>\n",
       "      <td>183.0</td>\n",
       "      <td>Wednesday</td>\n",
       "      <td>0</td>\n",
       "      <td>Assault</td>\n",
       "      <td>D32</td>\n",
       "      <td>36</td>\n",
       "      <td>Newtonbrook West (36)</td>\n",
       "      <td>43.777592</td>\n",
       "      <td>-79.425400</td>\n",
       "      <td>2002</td>\n",
       "    </tr>\n",
       "  </tbody>\n",
       "</table>\n",
       "<p>2 rows × 29 columns</p>\n",
       "</div>"
      ],
      "text/plain": [
       "           X          Y  Index_ event_unique_id            occurrencedate  \\\n",
       "0 -79.385193  43.659229    2349  GO-20149004286  2014-06-20T10:55:00.000Z   \n",
       "1 -79.425400  43.777592    2350  GO-20142411379  2014-07-02T00:20:00.000Z   \n",
       "\n",
       "               reporteddate premisetype  ucr_code  ucr_ext  \\\n",
       "0  2014-06-20T13:20:00.000Z   Apartment      2130      210   \n",
       "1  2014-07-02T02:58:00.000Z     Outside      1457      100   \n",
       "\n",
       "              offence  ...  occurrencedayofyear occurrencedayofweek  \\\n",
       "0          Theft Over  ...                171.0          Friday       \n",
       "1  Pointing A Firearm  ...                183.0          Wednesday    \n",
       "\n",
       "   occurrencehour         MCI Division  Hood_ID             Neighbourhood  \\\n",
       "0              10  Theft Over      D52       76  Bay Street Corridor (76)   \n",
       "1               0     Assault      D32       36     Newtonbrook West (36)   \n",
       "\n",
       "         Lat       Long  ObjectId  \n",
       "0  43.659229 -79.385193      2001  \n",
       "1  43.777592 -79.425400      2002  \n",
       "\n",
       "[2 rows x 29 columns]"
      ]
     },
     "execution_count": 11,
     "metadata": {},
     "output_type": "execute_result"
    }
   ],
   "source": [
    "mci_df = pd.read_csv('C:/Users/Melkamu/OneDrive - University of Kwazulu-Natal/Season7/YU/Course 1/Project 1/Melkamu/Dataset/From Toronto Police acessed on Feb 02_2020/MCI_2014_to_2018.csv')\n",
    "mci_df.head(2)"
   ]
  },
  {
   "cell_type": "code",
   "execution_count": 3,
   "metadata": {},
   "outputs": [
    {
     "data": {
      "text/plain": [
       "(167525, 29)"
      ]
     },
     "execution_count": 3,
     "metadata": {},
     "output_type": "execute_result"
    }
   ],
   "source": [
    "mci_df.shape\n",
    "#or print('Shape:',mci_df.shape)\n",
    "#len(mci_df)"
   ]
  },
  {
   "cell_type": "code",
   "execution_count": 14,
   "metadata": {},
   "outputs": [
    {
     "name": "stdout",
     "output_type": "stream",
     "text": [
      "************* INFO ******************\n",
      "<class 'pandas.core.frame.DataFrame'>\n",
      "RangeIndex: 167525 entries, 0 to 167524\n",
      "Data columns (total 29 columns):\n",
      " #   Column               Non-Null Count   Dtype  \n",
      "---  ------               --------------   -----  \n",
      " 0   X                    167525 non-null  float64\n",
      " 1   Y                    167525 non-null  float64\n",
      " 2   Index_               167525 non-null  int64  \n",
      " 3   event_unique_id      167525 non-null  object \n",
      " 4   occurrencedate       167525 non-null  object \n",
      " 5   reporteddate         167525 non-null  object \n",
      " 6   premisetype          167525 non-null  object \n",
      " 7   ucr_code             167525 non-null  int64  \n",
      " 8   ucr_ext              167525 non-null  int64  \n",
      " 9   offence              167525 non-null  object \n",
      " 10  reportedyear         167525 non-null  int64  \n",
      " 11  reportedmonth        167525 non-null  object \n",
      " 12  reportedday          167525 non-null  int64  \n",
      " 13  reporteddayofyear    167525 non-null  int64  \n",
      " 14  reporteddayofweek    167525 non-null  object \n",
      " 15  reportedhour         167525 non-null  int64  \n",
      " 16  occurrenceyear       167476 non-null  float64\n",
      " 17  occurrencemonth      167476 non-null  object \n",
      " 18  occurrenceday        167476 non-null  float64\n",
      " 19  occurrencedayofyear  167476 non-null  float64\n",
      " 20  occurrencedayofweek  167476 non-null  object \n",
      " 21  occurrencehour       167525 non-null  int64  \n",
      " 22  MCI                  167525 non-null  object \n",
      " 23  Division             167525 non-null  object \n",
      " 24  Hood_ID              167525 non-null  int64  \n",
      " 25  Neighbourhood        167525 non-null  object \n",
      " 26  Lat                  167525 non-null  float64\n",
      " 27  Long                 167525 non-null  float64\n",
      " 28  ObjectId             167525 non-null  int64  \n",
      "dtypes: float64(7), int64(10), object(12)\n",
      "memory usage: 37.1+ MB\n",
      "None\n"
     ]
    }
   ],
   "source": [
    "print('************* INFO ******************')\n",
    "print(mci_df.info())"
   ]
  },
  {
   "cell_type": "code",
   "execution_count": 16,
   "metadata": {},
   "outputs": [
    {
     "name": "stdout",
     "output_type": "stream",
     "text": [
      "*************************** COLUMNS ******************************************\n",
      "Index(['X', 'Y', 'Index_', 'event_unique_id', 'occurrencedate', 'reporteddate',\n",
      "       'premisetype', 'ucr_code', 'ucr_ext', 'offence', 'reportedyear',\n",
      "       'reportedmonth', 'reportedday', 'reporteddayofyear',\n",
      "       'reporteddayofweek', 'reportedhour', 'occurrenceyear',\n",
      "       'occurrencemonth', 'occurrenceday', 'occurrencedayofyear',\n",
      "       'occurrencedayofweek', 'occurrencehour', 'MCI', 'Division', 'Hood_ID',\n",
      "       'Neighbourhood', 'Lat', 'Long', 'ObjectId'],\n",
      "      dtype='object')\n"
     ]
    }
   ],
   "source": [
    "print('*************************** COLUMNS ******************************************')\n",
    "print(mci_df.columns)"
   ]
  },
  {
   "cell_type": "markdown",
   "metadata": {},
   "source": [
    "Removing the columns we no longer use including the index from the csv file because the df here also has got index"
   ]
  },
  {
   "cell_type": "code",
   "execution_count": 12,
   "metadata": {},
   "outputs": [],
   "source": [
    "mci_df.drop([\"Index_\",\"X\", \"Y\", \"event_unique_id\", \"ucr_code\", \"ucr_ext\", \"ObjectId\"], axis = 1, inplace = True)  \n",
    "# or mci_df= mci_df.drop(columns=[\"Index_\", \"X\", \"Y\", \"event_unique_id\", \"ucr_code\", \"ucr_ext\", \"ObjectId\"]) "
   ]
  },
  {
   "cell_type": "code",
   "execution_count": 6,
   "metadata": {},
   "outputs": [
    {
     "data": {
      "text/html": [
       "<div>\n",
       "<style scoped>\n",
       "    .dataframe tbody tr th:only-of-type {\n",
       "        vertical-align: middle;\n",
       "    }\n",
       "\n",
       "    .dataframe tbody tr th {\n",
       "        vertical-align: top;\n",
       "    }\n",
       "\n",
       "    .dataframe thead th {\n",
       "        text-align: right;\n",
       "    }\n",
       "</style>\n",
       "<table border=\"1\" class=\"dataframe\">\n",
       "  <thead>\n",
       "    <tr style=\"text-align: right;\">\n",
       "      <th></th>\n",
       "      <th>occurrencedate</th>\n",
       "      <th>reporteddate</th>\n",
       "      <th>premisetype</th>\n",
       "      <th>offence</th>\n",
       "      <th>reportedyear</th>\n",
       "      <th>reportedmonth</th>\n",
       "      <th>reportedday</th>\n",
       "      <th>reporteddayofyear</th>\n",
       "      <th>reporteddayofweek</th>\n",
       "      <th>reportedhour</th>\n",
       "      <th>...</th>\n",
       "      <th>occurrenceday</th>\n",
       "      <th>occurrencedayofyear</th>\n",
       "      <th>occurrencedayofweek</th>\n",
       "      <th>occurrencehour</th>\n",
       "      <th>MCI</th>\n",
       "      <th>Division</th>\n",
       "      <th>Hood_ID</th>\n",
       "      <th>Neighbourhood</th>\n",
       "      <th>Lat</th>\n",
       "      <th>Long</th>\n",
       "    </tr>\n",
       "  </thead>\n",
       "  <tbody>\n",
       "    <tr>\n",
       "      <th>0</th>\n",
       "      <td>2014-06-20T10:55:00.000Z</td>\n",
       "      <td>2014-06-20T13:20:00.000Z</td>\n",
       "      <td>Apartment</td>\n",
       "      <td>Theft Over</td>\n",
       "      <td>2014</td>\n",
       "      <td>June</td>\n",
       "      <td>20</td>\n",
       "      <td>171</td>\n",
       "      <td>Friday</td>\n",
       "      <td>13</td>\n",
       "      <td>...</td>\n",
       "      <td>20.0</td>\n",
       "      <td>171.0</td>\n",
       "      <td>Friday</td>\n",
       "      <td>10</td>\n",
       "      <td>Theft Over</td>\n",
       "      <td>D52</td>\n",
       "      <td>76</td>\n",
       "      <td>Bay Street Corridor (76)</td>\n",
       "      <td>43.659229</td>\n",
       "      <td>-79.385193</td>\n",
       "    </tr>\n",
       "    <tr>\n",
       "      <th>1</th>\n",
       "      <td>2014-07-02T00:20:00.000Z</td>\n",
       "      <td>2014-07-02T02:58:00.000Z</td>\n",
       "      <td>Outside</td>\n",
       "      <td>Pointing A Firearm</td>\n",
       "      <td>2014</td>\n",
       "      <td>July</td>\n",
       "      <td>2</td>\n",
       "      <td>183</td>\n",
       "      <td>Wednesday</td>\n",
       "      <td>2</td>\n",
       "      <td>...</td>\n",
       "      <td>2.0</td>\n",
       "      <td>183.0</td>\n",
       "      <td>Wednesday</td>\n",
       "      <td>0</td>\n",
       "      <td>Assault</td>\n",
       "      <td>D32</td>\n",
       "      <td>36</td>\n",
       "      <td>Newtonbrook West (36)</td>\n",
       "      <td>43.777592</td>\n",
       "      <td>-79.425400</td>\n",
       "    </tr>\n",
       "  </tbody>\n",
       "</table>\n",
       "<p>2 rows × 22 columns</p>\n",
       "</div>"
      ],
      "text/plain": [
       "             occurrencedate              reporteddate premisetype  \\\n",
       "0  2014-06-20T10:55:00.000Z  2014-06-20T13:20:00.000Z   Apartment   \n",
       "1  2014-07-02T00:20:00.000Z  2014-07-02T02:58:00.000Z     Outside   \n",
       "\n",
       "              offence  reportedyear reportedmonth  reportedday  \\\n",
       "0          Theft Over          2014          June           20   \n",
       "1  Pointing A Firearm          2014          July            2   \n",
       "\n",
       "   reporteddayofyear reporteddayofweek  reportedhour  ...  occurrenceday  \\\n",
       "0                171        Friday                13  ...           20.0   \n",
       "1                183        Wednesday              2  ...            2.0   \n",
       "\n",
       "  occurrencedayofyear  occurrencedayofweek  occurrencehour         MCI  \\\n",
       "0               171.0           Friday                  10  Theft Over   \n",
       "1               183.0           Wednesday                0     Assault   \n",
       "\n",
       "   Division Hood_ID             Neighbourhood        Lat       Long  \n",
       "0       D52      76  Bay Street Corridor (76)  43.659229 -79.385193  \n",
       "1       D32      36     Newtonbrook West (36)  43.777592 -79.425400  \n",
       "\n",
       "[2 rows x 22 columns]"
      ]
     },
     "execution_count": 6,
     "metadata": {},
     "output_type": "execute_result"
    }
   ],
   "source": [
    "mci_df.head(2)"
   ]
  },
  {
   "cell_type": "code",
   "execution_count": 26,
   "metadata": {},
   "outputs": [
    {
     "name": "stdout",
     "output_type": "stream",
     "text": [
      "***************** INDEX *****************\n",
      "RangeIndex(start=0, stop=167525, step=1)\n"
     ]
    }
   ],
   "source": [
    "print('***************** INDEX *****************')\n",
    "print(mci_df.index)"
   ]
  },
  {
   "cell_type": "code",
   "execution_count": 17,
   "metadata": {},
   "outputs": [
    {
     "name": "stdout",
     "output_type": "stream",
     "text": [
      "Duplicates: True\n"
     ]
    }
   ],
   "source": [
    "#check for duplicates\n",
    "print('Duplicates:',mci_df.duplicated().any())\n",
    "\n",
    "#to check unique occurences\n",
    "#mci_df.occurrencedayofweek.unique()"
   ]
  },
  {
   "cell_type": "code",
   "execution_count": 13,
   "metadata": {},
   "outputs": [
    {
     "name": "stdout",
     "output_type": "stream",
     "text": [
      "Missing Data\n"
     ]
    },
    {
     "data": {
      "text/plain": [
       "occurrenceyear         49\n",
       "occurrencedayofweek    49\n",
       "occurrencedayofyear    49\n",
       "occurrenceday          49\n",
       "occurrencemonth        49\n",
       "reporteddayofweek       0\n",
       "reporteddate            0\n",
       "premisetype             0\n",
       "offence                 0\n",
       "reportedyear            0\n",
       "reportedmonth           0\n",
       "reportedday             0\n",
       "reporteddayofyear       0\n",
       "Long                    0\n",
       "reportedhour            0\n",
       "Lat                     0\n",
       "occurrencehour          0\n",
       "MCI                     0\n",
       "Division                0\n",
       "Hood_ID                 0\n",
       "Neighbourhood           0\n",
       "occurrencedate          0\n",
       "dtype: int64"
      ]
     },
     "execution_count": 13,
     "metadata": {},
     "output_type": "execute_result"
    }
   ],
   "source": [
    "#Checking for missings\n",
    "print('Missing Data')\n",
    "mci_df.isnull().sum().sort_values(ascending=False)"
   ]
  },
  {
   "cell_type": "code",
   "execution_count": 5,
   "metadata": {},
   "outputs": [],
   "source": [
    "# cleaning date format before proceeeding to date related analysis\n",
    "# we can use occurencedate to replace missings of \n",
    "#occurence related times(occurrenceyear, occurrencedayofweek, occurrencedayofyear, occurrenceday, occurrencemonth)\n",
    "# convert dates to pandas datetime format\n",
    "mci_df['occurrencedate'] = mci_df['occurrencedate'].astype('datetime64[ns]')\n",
    "mci_df['reporteddate'] = mci_df['reporteddate'].astype('datetime64[ns]')\n",
    "\n",
    "#or u can use  mci_df.occurrencedate = pd.to_datetime(mci_df.occurrencedate).dt.tz_localize(None)\n",
    "#and   mci_df.reporteddate = pd.to_datetime(mci_df.reporteddate).dt.tz_localize(None)"
   ]
  },
  {
   "cell_type": "code",
   "execution_count": 8,
   "metadata": {},
   "outputs": [
    {
     "data": {
      "text/html": [
       "<div>\n",
       "<style scoped>\n",
       "    .dataframe tbody tr th:only-of-type {\n",
       "        vertical-align: middle;\n",
       "    }\n",
       "\n",
       "    .dataframe tbody tr th {\n",
       "        vertical-align: top;\n",
       "    }\n",
       "\n",
       "    .dataframe thead th {\n",
       "        text-align: right;\n",
       "    }\n",
       "</style>\n",
       "<table border=\"1\" class=\"dataframe\">\n",
       "  <thead>\n",
       "    <tr style=\"text-align: right;\">\n",
       "      <th></th>\n",
       "      <th>occurrencedate</th>\n",
       "      <th>reporteddate</th>\n",
       "      <th>premisetype</th>\n",
       "      <th>offence</th>\n",
       "      <th>reportedyear</th>\n",
       "      <th>reportedmonth</th>\n",
       "      <th>reportedday</th>\n",
       "      <th>reporteddayofyear</th>\n",
       "      <th>reporteddayofweek</th>\n",
       "      <th>reportedhour</th>\n",
       "      <th>...</th>\n",
       "      <th>occurrenceday</th>\n",
       "      <th>occurrencedayofyear</th>\n",
       "      <th>occurrencedayofweek</th>\n",
       "      <th>occurrencehour</th>\n",
       "      <th>MCI</th>\n",
       "      <th>Division</th>\n",
       "      <th>Hood_ID</th>\n",
       "      <th>Neighbourhood</th>\n",
       "      <th>Lat</th>\n",
       "      <th>Long</th>\n",
       "    </tr>\n",
       "  </thead>\n",
       "  <tbody>\n",
       "    <tr>\n",
       "      <th>0</th>\n",
       "      <td>2014-06-20 10:55:00</td>\n",
       "      <td>2014-06-20 13:20:00</td>\n",
       "      <td>Apartment</td>\n",
       "      <td>Theft Over</td>\n",
       "      <td>2014</td>\n",
       "      <td>June</td>\n",
       "      <td>20</td>\n",
       "      <td>171</td>\n",
       "      <td>Friday</td>\n",
       "      <td>13</td>\n",
       "      <td>...</td>\n",
       "      <td>20.0</td>\n",
       "      <td>171.0</td>\n",
       "      <td>Friday</td>\n",
       "      <td>10</td>\n",
       "      <td>Theft Over</td>\n",
       "      <td>D52</td>\n",
       "      <td>76</td>\n",
       "      <td>Bay Street Corridor (76)</td>\n",
       "      <td>43.659229</td>\n",
       "      <td>-79.385193</td>\n",
       "    </tr>\n",
       "    <tr>\n",
       "      <th>1</th>\n",
       "      <td>2014-07-02 00:20:00</td>\n",
       "      <td>2014-07-02 02:58:00</td>\n",
       "      <td>Outside</td>\n",
       "      <td>Pointing A Firearm</td>\n",
       "      <td>2014</td>\n",
       "      <td>July</td>\n",
       "      <td>2</td>\n",
       "      <td>183</td>\n",
       "      <td>Wednesday</td>\n",
       "      <td>2</td>\n",
       "      <td>...</td>\n",
       "      <td>2.0</td>\n",
       "      <td>183.0</td>\n",
       "      <td>Wednesday</td>\n",
       "      <td>0</td>\n",
       "      <td>Assault</td>\n",
       "      <td>D32</td>\n",
       "      <td>36</td>\n",
       "      <td>Newtonbrook West (36)</td>\n",
       "      <td>43.777592</td>\n",
       "      <td>-79.425400</td>\n",
       "    </tr>\n",
       "  </tbody>\n",
       "</table>\n",
       "<p>2 rows × 22 columns</p>\n",
       "</div>"
      ],
      "text/plain": [
       "       occurrencedate        reporteddate premisetype             offence  \\\n",
       "0 2014-06-20 10:55:00 2014-06-20 13:20:00   Apartment          Theft Over   \n",
       "1 2014-07-02 00:20:00 2014-07-02 02:58:00     Outside  Pointing A Firearm   \n",
       "\n",
       "   reportedyear reportedmonth  reportedday  reporteddayofyear  \\\n",
       "0          2014          June           20                171   \n",
       "1          2014          July            2                183   \n",
       "\n",
       "  reporteddayofweek  reportedhour  ...  occurrenceday occurrencedayofyear  \\\n",
       "0        Friday                13  ...           20.0               171.0   \n",
       "1        Wednesday              2  ...            2.0               183.0   \n",
       "\n",
       "   occurrencedayofweek  occurrencehour         MCI  Division Hood_ID  \\\n",
       "0           Friday                  10  Theft Over       D52      76   \n",
       "1           Wednesday                0     Assault       D32      36   \n",
       "\n",
       "              Neighbourhood        Lat       Long  \n",
       "0  Bay Street Corridor (76)  43.659229 -79.385193  \n",
       "1     Newtonbrook West (36)  43.777592 -79.425400  \n",
       "\n",
       "[2 rows x 22 columns]"
      ]
     },
     "execution_count": 8,
     "metadata": {},
     "output_type": "execute_result"
    }
   ],
   "source": [
    "mci_df.head(2)"
   ]
  },
  {
   "cell_type": "code",
   "execution_count": 7,
   "metadata": {},
   "outputs": [
    {
     "name": "stdout",
     "output_type": "stream",
     "text": [
      "<class 'pandas.core.frame.DataFrame'>\n",
      "RangeIndex: 167525 entries, 0 to 167524\n",
      "Data columns (total 22 columns):\n",
      " #   Column               Non-Null Count   Dtype         \n",
      "---  ------               --------------   -----         \n",
      " 0   occurrencedate       167525 non-null  datetime64[ns]\n",
      " 1   reporteddate         167525 non-null  datetime64[ns]\n",
      " 2   premisetype          167525 non-null  object        \n",
      " 3   offence              167525 non-null  object        \n",
      " 4   reportedyear         167525 non-null  int64         \n",
      " 5   reportedmonth        167525 non-null  object        \n",
      " 6   reportedday          167525 non-null  int64         \n",
      " 7   reporteddayofyear    167525 non-null  int64         \n",
      " 8   reporteddayofweek    167525 non-null  object        \n",
      " 9   reportedhour         167525 non-null  int64         \n",
      " 10  occurrenceyear       167476 non-null  float64       \n",
      " 11  occurrencemonth      167476 non-null  object        \n",
      " 12  occurrenceday        167476 non-null  float64       \n",
      " 13  occurrencedayofyear  167476 non-null  float64       \n",
      " 14  occurrencedayofweek  167476 non-null  object        \n",
      " 15  occurrencehour       167525 non-null  int64         \n",
      " 16  MCI                  167525 non-null  object        \n",
      " 17  Division             167525 non-null  object        \n",
      " 18  Hood_ID              167525 non-null  int64         \n",
      " 19  Neighbourhood        167525 non-null  object        \n",
      " 20  Lat                  167525 non-null  float64       \n",
      " 21  Long                 167525 non-null  float64       \n",
      "dtypes: datetime64[ns](2), float64(5), int64(6), object(9)\n",
      "memory usage: 28.1+ MB\n"
     ]
    }
   ],
   "source": [
    "mci_df.info()"
   ]
  },
  {
   "cell_type": "code",
   "execution_count": null,
   "metadata": {},
   "outputs": [],
   "source": [
    "mci_df['occurrenceyear'] = mci_df['occurrenceyear'].astype('datetime64[ns]')"
   ]
  },
  {
   "cell_type": "markdown",
   "metadata": {},
   "source": [
    "Now lets generate missings of (occurrenceyear, occurrencedayofweek, occurrencedayofyear, occurrenceday, occurrencemonth)\n",
    "from occurencedate\n",
    "to generate from scratch #df['month'] = pd.DatetimeIndex(df['birth_date']).month"
   ]
  },
  {
   "cell_type": "code",
   "execution_count": 20,
   "metadata": {},
   "outputs": [],
   "source": [
    "mci_df['occurrenceyear'] = mci_df['occurrenceyear'].astype('Int32') \n",
    "mci_df[\"occurrenceyear\"] = mci_df.apply(lambda row: row[\"occurrencedate\"].year if np.isnan(row[\"occurrenceyear\"]) else row[\"occurrenceyear\"], axis=1)\n",
    "#mci_df.head(2)"
   ]
  },
  {
   "cell_type": "code",
   "execution_count": null,
   "metadata": {},
   "outputs": [],
   "source": [
    "#mci_df['occurrencemonth'] = mci_df.apply(lambda row: calendar.month_name[row['occurrencedate'].month]  if len(row['occurrencemonth'])<4 else row['occurrencemonth'], axis=1)\n"
   ]
  },
  {
   "cell_type": "code",
   "execution_count": null,
   "metadata": {},
   "outputs": [],
   "source": [
    "mci_df['occurrencedayofweek'] = mci_df.apply(lambda row: row['occurencedate'].week if np.isnan(row['occurrencedayofweek']) else row['occurrencedayofweek'], axis=1)\n"
   ]
  },
  {
   "cell_type": "code",
   "execution_count": null,
   "metadata": {},
   "outputs": [],
   "source": [
    "#mci_df['occurrencedayofyear'] = mci_df.apply(lambda row: row['occurencedate'].doy if np.isnan(row['occurrencedayofyear']) else row['occurrencedayofyear'], axis=1)\n"
   ]
  },
  {
   "cell_type": "code",
   "execution_count": null,
   "metadata": {},
   "outputs": [],
   "source": [
    "#mci_df['occurrenceday'] = mci_df.apply(lambda row: row['occurencedate'].day if np.isnan(row['occurrenceday']) else row['occurrenceday'], axis=1)\n"
   ]
  },
  {
   "cell_type": "code",
   "execution_count": null,
   "metadata": {},
   "outputs": [],
   "source": [
    "#mci_df['occurrencemonth'] = mci_df.apply(lambda row: row['occurencedate'].month if np.isnan(row['occurrencemonth']) else row['occurrencemonth'], axis=1)\n"
   ]
  },
  {
   "cell_type": "code",
   "execution_count": null,
   "metadata": {},
   "outputs": [],
   "source": []
  },
  {
   "cell_type": "code",
   "execution_count": null,
   "metadata": {},
   "outputs": [],
   "source": []
  },
  {
   "cell_type": "code",
   "execution_count": 54,
   "metadata": {},
   "outputs": [
    {
     "name": "stdout",
     "output_type": "stream",
     "text": [
      "<class 'pandas.core.frame.DataFrame'>\n",
      "RangeIndex: 167525 entries, 0 to 167524\n",
      "Data columns (total 22 columns):\n",
      " #   Column               Non-Null Count   Dtype         \n",
      "---  ------               --------------   -----         \n",
      " 0   occurrencedate       167525 non-null  datetime64[ns]\n",
      " 1   reporteddate         167525 non-null  datetime64[ns]\n",
      " 2   premisetype          167525 non-null  object        \n",
      " 3   offence              167525 non-null  object        \n",
      " 4   reportedyear         167525 non-null  Int32         \n",
      " 5   reportedmonth        167525 non-null  object        \n",
      " 6   reportedday          167525 non-null  Int32         \n",
      " 7   reporteddayofyear    167525 non-null  Int32         \n",
      " 8   reporteddayofweek    167525 non-null  object        \n",
      " 9   reportedhour         167525 non-null  Int32         \n",
      " 10  occurrenceyear       167476 non-null  Int32         \n",
      " 11  occurrencemonth      167525 non-null  object        \n",
      " 12  occurrenceday        167476 non-null  Int32         \n",
      " 13  occurrencedayofyear  167476 non-null  Int32         \n",
      " 14  occurrencedayofweek  167525 non-null  object        \n",
      " 15  occurrencehour       167525 non-null  Int32         \n",
      " 16  MCI                  167525 non-null  object        \n",
      " 17  Division             167525 non-null  object        \n",
      " 18  Hood_ID              167525 non-null  int64         \n",
      " 19  Neighbourhood        167525 non-null  object        \n",
      " 20  Lat                  167525 non-null  float64       \n",
      " 21  Long                 167525 non-null  float64       \n",
      "dtypes: Int32(8), datetime64[ns](2), float64(2), int64(1), object(9)\n",
      "memory usage: 24.3+ MB\n"
     ]
    }
   ],
   "source": [
    "#Lets  format all date variables before further manupliation\n",
    "import calendar\n",
    "from datetime import datetime\n",
    "mci_df['reportedyear'] = mci_df['reportedyear'].astype('Int32') \n",
    "mci_df['reportedmonth'] = mci_df['reportedmonth'].astype(str) \n",
    "mci_df['reporteddayofweek'] = mci_df['reporteddayofweek'].astype(str) \n",
    "mci_df['reportedday'] = mci_df['reportedday'].astype('Int32') \n",
    "mci_df['reporteddayofyear'] = mci_df['reporteddayofyear'].astype('Int32')\n",
    "mci_df['reportedhour'] = mci_df['reportedhour'].astype('Int32') \n",
    "mci_df['occurrenceyear'] = mci_df['occurrenceyear'].astype('Int32') \n",
    "mci_df['occurrencemonth'] = mci_df['occurrencemonth'].astype(str) \n",
    "mci_df['occurrenceday'] = mci_df['occurrenceday'].astype('Int32') \n",
    "mci_df['occurrencedayofyear'] = mci_df['occurrencedayofyear'].astype('Int32') \n",
    "mci_df['occurrencedayofweek'] = mci_df['occurrencedayofweek'].astype(str) \n",
    "mci_df['occurrencehour'] = mci_df['occurrencehour'].astype('Int32') \n",
    "\n",
    "\n",
    "mci_df.info()"
   ]
  },
  {
   "cell_type": "markdown",
   "metadata": {},
   "source": [
    "We can leave some of the variables like division, Neighbourhood as an object, \n",
    "\n",
    "We may need to convert offenc to categorical columns/factors.\n",
    "we will only keep the most frequent categories and we may need to lable the rest as others."
   ]
  },
  {
   "cell_type": "code",
   "execution_count": 68,
   "metadata": {},
   "outputs": [
    {
     "data": {
      "text/plain": [
       "array(['Theft Over', 'Pointing A Firearm', 'Robbery With Weapon', 'B&E',\n",
       "       'Assault', \"B&E W'Intent\", 'Assault With Weapon',\n",
       "       'Assault Bodily Harm', 'Robbery - Other',\n",
       "       'Unlawfully In Dwelling-House', 'Robbery - Mugging',\n",
       "       'Administering Noxious Thing', 'Theft From Mail / Bag / Key',\n",
       "       'Assault Peace Officer', 'Theft From Motor Vehicle Over',\n",
       "       'Robbery - Business', 'Robbery - Swarming',\n",
       "       'Assault - Resist/ Prevent Seiz', 'Robbery - Purse Snatch',\n",
       "       'Robbery - Financial Institute', 'Aggravated Assault',\n",
       "       'Disarming Peace/Public Officer', 'Robbery - Taxi',\n",
       "       'Theft - Misapprop Funds Over', 'Use Firearm / Immit Commit Off',\n",
       "       'Theft Over - Shoplifting', 'Robbery - Home Invasion', 'B&E Out',\n",
       "       'Robbery - Vehicle Jacking', 'Robbery - Atm',\n",
       "       'Robbery - Delivery Person', 'Crim Negligence Bodily Harm',\n",
       "       'Theft Over - Bicycle', 'Unlawfully Causing Bodily Harm',\n",
       "       'Aggravated Aslt Peace Officer', 'Theft Over - Distraction',\n",
       "       'Robbery - Armoured Car', 'Traps Likely Cause Bodily Harm',\n",
       "       'B&E - To Steal Firearm', 'Aggravated Assault Avails Pros',\n",
       "       'B&E - M/Veh To Steal Firearm', 'Discharge Firearm - Recklessly',\n",
       "       'Assault - Force/Thrt/Impede', 'Discharge Firearm With Intent',\n",
       "       'Assault Peace Officer Wpn/Cbh', 'Air Gun Or Pistol: Bodily Harm',\n",
       "       'Theft Of Utilities Over', 'Set/Place Trap/Intend Death/Bh',\n",
       "       'Theft Of Motor Vehicle'], dtype=object)"
      ]
     },
     "execution_count": 68,
     "metadata": {},
     "output_type": "execute_result"
    }
   ],
   "source": [
    "mci_df.offence.unique()\n",
    "#mci_df.occurrencedayofweek.unique()"
   ]
  },
  {
   "cell_type": "code",
   "execution_count": 64,
   "metadata": {},
   "outputs": [
    {
     "data": {
      "text/plain": [
       "array(['Apartment', 'Outside', 'House', 'Commercial', 'Other'],\n",
       "      dtype=object)"
      ]
     },
     "execution_count": 64,
     "metadata": {},
     "output_type": "execute_result"
    }
   ],
   "source": [
    "mci_df.premisetype.unique()"
   ]
  },
  {
   "cell_type": "code",
   "execution_count": 60,
   "metadata": {},
   "outputs": [
    {
     "data": {
      "text/plain": [
       "array(['Theft Over', 'Assault', 'Robbery', 'Break and Enter',\n",
       "       'Auto Theft'], dtype=object)"
      ]
     },
     "execution_count": 60,
     "metadata": {},
     "output_type": "execute_result"
    }
   ],
   "source": [
    "mci_df.MCI.unique()"
   ]
  },
  {
   "cell_type": "markdown",
   "metadata": {},
   "source": []
  },
  {
   "cell_type": "code",
   "execution_count": 16,
   "metadata": {},
   "outputs": [],
   "source": [
    "#converting offence to categorical type\n",
    "#offence_cat  = list(mci_df['offence'].value_counts()[12:].index)\n",
    "#mci_df.loc[mci_df['offence'].isin(offence_cat) , mci_df.columns=='offence'] = 'OTHER'\n",
    "#mci_df['offence'] = pd.Categorical(mci_df['offence'])"
   ]
  },
  {
   "cell_type": "code",
   "execution_count": 23,
   "metadata": {},
   "outputs": [
    {
     "data": {
      "text/html": [
       "<div>\n",
       "<style scoped>\n",
       "    .dataframe tbody tr th:only-of-type {\n",
       "        vertical-align: middle;\n",
       "    }\n",
       "\n",
       "    .dataframe tbody tr th {\n",
       "        vertical-align: top;\n",
       "    }\n",
       "\n",
       "    .dataframe thead th {\n",
       "        text-align: right;\n",
       "    }\n",
       "</style>\n",
       "<table border=\"1\" class=\"dataframe\">\n",
       "  <thead>\n",
       "    <tr style=\"text-align: right;\">\n",
       "      <th></th>\n",
       "      <th>X</th>\n",
       "      <th>Y</th>\n",
       "      <th>Index_</th>\n",
       "      <th>event_unique_id</th>\n",
       "      <th>occurrencedate</th>\n",
       "      <th>reporteddate</th>\n",
       "      <th>premisetype</th>\n",
       "      <th>ucr_code</th>\n",
       "      <th>ucr_ext</th>\n",
       "      <th>offence</th>\n",
       "      <th>...</th>\n",
       "      <th>occurrencedayofweek</th>\n",
       "      <th>occurrencehour</th>\n",
       "      <th>MCI</th>\n",
       "      <th>Division</th>\n",
       "      <th>Hood_ID</th>\n",
       "      <th>Neighbourhood</th>\n",
       "      <th>Lat</th>\n",
       "      <th>Long</th>\n",
       "      <th>ObjectId</th>\n",
       "      <th>occurencedayofweek</th>\n",
       "    </tr>\n",
       "  </thead>\n",
       "  <tbody>\n",
       "    <tr>\n",
       "      <th>0</th>\n",
       "      <td>-79.385193</td>\n",
       "      <td>43.659229</td>\n",
       "      <td>2349</td>\n",
       "      <td>GO-20149004286</td>\n",
       "      <td>2014-06-20 10:55:00</td>\n",
       "      <td>2014-06-20 13:20:00</td>\n",
       "      <td>Apartment</td>\n",
       "      <td>2130</td>\n",
       "      <td>210</td>\n",
       "      <td>Theft Over</td>\n",
       "      <td>...</td>\n",
       "      <td>Friday</td>\n",
       "      <td>10</td>\n",
       "      <td>Theft Over</td>\n",
       "      <td>D52</td>\n",
       "      <td>76</td>\n",
       "      <td>Bay Street Corridor (76)</td>\n",
       "      <td>43.659229</td>\n",
       "      <td>-79.385193</td>\n",
       "      <td>2001</td>\n",
       "      <td>Friday</td>\n",
       "    </tr>\n",
       "    <tr>\n",
       "      <th>1</th>\n",
       "      <td>-79.425400</td>\n",
       "      <td>43.777592</td>\n",
       "      <td>2350</td>\n",
       "      <td>GO-20142411379</td>\n",
       "      <td>2014-07-02 00:20:00</td>\n",
       "      <td>2014-07-02 02:58:00</td>\n",
       "      <td>Outside</td>\n",
       "      <td>1457</td>\n",
       "      <td>100</td>\n",
       "      <td>OTHER</td>\n",
       "      <td>...</td>\n",
       "      <td>Wednesday</td>\n",
       "      <td>0</td>\n",
       "      <td>Assault</td>\n",
       "      <td>D32</td>\n",
       "      <td>36</td>\n",
       "      <td>Newtonbrook West (36)</td>\n",
       "      <td>43.777592</td>\n",
       "      <td>-79.425400</td>\n",
       "      <td>2002</td>\n",
       "      <td>Wednesday</td>\n",
       "    </tr>\n",
       "  </tbody>\n",
       "</table>\n",
       "<p>2 rows × 30 columns</p>\n",
       "</div>"
      ],
      "text/plain": [
       "           X          Y  Index_ event_unique_id      occurrencedate  \\\n",
       "0 -79.385193  43.659229    2349  GO-20149004286 2014-06-20 10:55:00   \n",
       "1 -79.425400  43.777592    2350  GO-20142411379 2014-07-02 00:20:00   \n",
       "\n",
       "         reporteddate premisetype  ucr_code  ucr_ext     offence  ...  \\\n",
       "0 2014-06-20 13:20:00   Apartment      2130      210  Theft Over  ...   \n",
       "1 2014-07-02 02:58:00     Outside      1457      100       OTHER  ...   \n",
       "\n",
       "   occurrencedayofweek occurrencehour         MCI  Division Hood_ID  \\\n",
       "0           Friday                 10  Theft Over       D52      76   \n",
       "1           Wednesday               0     Assault       D32      36   \n",
       "\n",
       "              Neighbourhood        Lat       Long  ObjectId  \\\n",
       "0  Bay Street Corridor (76)  43.659229 -79.385193      2001   \n",
       "1     Newtonbrook West (36)  43.777592 -79.425400      2002   \n",
       "\n",
       "   occurencedayofweek  \n",
       "0          Friday      \n",
       "1          Wednesday   \n",
       "\n",
       "[2 rows x 30 columns]"
      ]
     },
     "execution_count": 23,
     "metadata": {},
     "output_type": "execute_result"
    }
   ],
   "source": [
    "mci_df.head(2)"
   ]
  },
  {
   "cell_type": "code",
   "execution_count": 71,
   "metadata": {},
   "outputs": [
    {
     "data": {
      "text/plain": [
       "<IntegerArray>\n",
       "[2014, 2015, 2016, 2017, 2018]\n",
       "Length: 5, dtype: Int32"
      ]
     },
     "execution_count": 71,
     "metadata": {},
     "output_type": "execute_result"
    }
   ],
   "source": [
    "#mci_df.occurrenceyear.unique()\n",
    "#mci_df.reportedyear.unique()"
   ]
  },
  {
   "cell_type": "code",
   "execution_count": 69,
   "metadata": {},
   "outputs": [],
   "source": [
    "# save and export the cleaned file in csv format\n",
    "export_csv = mci_df.to_csv (r'C:/Users/Melkamu/OneDrive - University of Kwazulu-Natal/Season7/YU/Course 1/Project 1/Melkamu/Dataset/From Toronto Police acessed on Feb 02_2020/Cleaning and preparation/mci_cleaned2.csv', index = None, header=True) \n",
    "#Notethat Don't forget to add '.csv' at the end of the path\n"
   ]
  },
  {
   "cell_type": "markdown",
   "metadata": {},
   "source": [
    "Explanatory analysis"
   ]
  },
  {
   "cell_type": "markdown",
   "metadata": {},
   "source": []
  }
 ],
 "metadata": {
  "kernelspec": {
   "display_name": "Python 3",
   "language": "python",
   "name": "python3"
  },
  "language_info": {
   "codemirror_mode": {
    "name": "ipython",
    "version": 3
   },
   "file_extension": ".py",
   "mimetype": "text/x-python",
   "name": "python",
   "nbconvert_exporter": "python",
   "pygments_lexer": "ipython3",
   "version": "3.7.6"
  }
 },
 "nbformat": 4,
 "nbformat_minor": 4
}
