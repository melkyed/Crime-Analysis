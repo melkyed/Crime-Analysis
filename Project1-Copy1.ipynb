{
 "cells": [
  {
   "cell_type": "markdown",
   "metadata": {},
   "source": [
    "Toronto Crime analysis"
   ]
  },
  {
   "cell_type": "code",
   "execution_count": 3,
   "metadata": {},
   "outputs": [],
   "source": [
    "import numpy as np \n",
    "import pandas as pd \n",
    "import matplotlib.pyplot as plt\n",
    "%matplotlib inline\n",
    "plt.style.use('seaborn')"
   ]
  },
  {
   "cell_type": "markdown",
   "metadata": {},
   "source": [
    "Read dataset"
   ]
  },
  {
   "cell_type": "code",
   "execution_count": 4,
   "metadata": {},
   "outputs": [
    {
     "data": {
      "text/html": [
       "<div>\n",
       "<style scoped>\n",
       "    .dataframe tbody tr th:only-of-type {\n",
       "        vertical-align: middle;\n",
       "    }\n",
       "\n",
       "    .dataframe tbody tr th {\n",
       "        vertical-align: top;\n",
       "    }\n",
       "\n",
       "    .dataframe thead th {\n",
       "        text-align: right;\n",
       "    }\n",
       "</style>\n",
       "<table border=\"1\" class=\"dataframe\">\n",
       "  <thead>\n",
       "    <tr style=\"text-align: right;\">\n",
       "      <th></th>\n",
       "      <th>X</th>\n",
       "      <th>Y</th>\n",
       "      <th>Index_</th>\n",
       "      <th>event_unique_id</th>\n",
       "      <th>occurrencedate</th>\n",
       "      <th>reporteddate</th>\n",
       "      <th>premisetype</th>\n",
       "      <th>ucr_code</th>\n",
       "      <th>ucr_ext</th>\n",
       "      <th>offence</th>\n",
       "      <th>...</th>\n",
       "      <th>occurrencedayofyear</th>\n",
       "      <th>occurrencedayofweek</th>\n",
       "      <th>occurrencehour</th>\n",
       "      <th>MCI</th>\n",
       "      <th>Division</th>\n",
       "      <th>Hood_ID</th>\n",
       "      <th>Neighbourhood</th>\n",
       "      <th>Lat</th>\n",
       "      <th>Long</th>\n",
       "      <th>ObjectId</th>\n",
       "    </tr>\n",
       "  </thead>\n",
       "  <tbody>\n",
       "    <tr>\n",
       "      <th>0</th>\n",
       "      <td>-79.385193</td>\n",
       "      <td>43.659229</td>\n",
       "      <td>2349</td>\n",
       "      <td>GO-20149004286</td>\n",
       "      <td>2014-06-20T10:55:00.000Z</td>\n",
       "      <td>2014-06-20T13:20:00.000Z</td>\n",
       "      <td>Apartment</td>\n",
       "      <td>2130</td>\n",
       "      <td>210</td>\n",
       "      <td>Theft Over</td>\n",
       "      <td>...</td>\n",
       "      <td>171.0</td>\n",
       "      <td>Friday</td>\n",
       "      <td>10</td>\n",
       "      <td>Theft Over</td>\n",
       "      <td>D52</td>\n",
       "      <td>76</td>\n",
       "      <td>Bay Street Corridor (76)</td>\n",
       "      <td>43.659229</td>\n",
       "      <td>-79.385193</td>\n",
       "      <td>2001</td>\n",
       "    </tr>\n",
       "    <tr>\n",
       "      <th>1</th>\n",
       "      <td>-79.425400</td>\n",
       "      <td>43.777592</td>\n",
       "      <td>2350</td>\n",
       "      <td>GO-20142411379</td>\n",
       "      <td>2014-07-02T00:20:00.000Z</td>\n",
       "      <td>2014-07-02T02:58:00.000Z</td>\n",
       "      <td>Outside</td>\n",
       "      <td>1457</td>\n",
       "      <td>100</td>\n",
       "      <td>Pointing A Firearm</td>\n",
       "      <td>...</td>\n",
       "      <td>183.0</td>\n",
       "      <td>Wednesday</td>\n",
       "      <td>0</td>\n",
       "      <td>Assault</td>\n",
       "      <td>D32</td>\n",
       "      <td>36</td>\n",
       "      <td>Newtonbrook West (36)</td>\n",
       "      <td>43.777592</td>\n",
       "      <td>-79.425400</td>\n",
       "      <td>2002</td>\n",
       "    </tr>\n",
       "  </tbody>\n",
       "</table>\n",
       "<p>2 rows × 29 columns</p>\n",
       "</div>"
      ],
      "text/plain": [
       "           X          Y  Index_ event_unique_id            occurrencedate  \\\n",
       "0 -79.385193  43.659229    2349  GO-20149004286  2014-06-20T10:55:00.000Z   \n",
       "1 -79.425400  43.777592    2350  GO-20142411379  2014-07-02T00:20:00.000Z   \n",
       "\n",
       "               reporteddate premisetype  ucr_code  ucr_ext  \\\n",
       "0  2014-06-20T13:20:00.000Z   Apartment      2130      210   \n",
       "1  2014-07-02T02:58:00.000Z     Outside      1457      100   \n",
       "\n",
       "              offence  ...  occurrencedayofyear occurrencedayofweek  \\\n",
       "0          Theft Over  ...                171.0          Friday       \n",
       "1  Pointing A Firearm  ...                183.0          Wednesday    \n",
       "\n",
       "   occurrencehour         MCI Division  Hood_ID             Neighbourhood  \\\n",
       "0              10  Theft Over      D52       76  Bay Street Corridor (76)   \n",
       "1               0     Assault      D32       36     Newtonbrook West (36)   \n",
       "\n",
       "         Lat       Long  ObjectId  \n",
       "0  43.659229 -79.385193      2001  \n",
       "1  43.777592 -79.425400      2002  \n",
       "\n",
       "[2 rows x 29 columns]"
      ]
     },
     "execution_count": 4,
     "metadata": {},
     "output_type": "execute_result"
    }
   ],
   "source": [
    "mci_df = pd.read_csv('C:/Users/Melkamu/OneDrive - University of Kwazulu-Natal/Season7/YU/Course 1/Project 1/Melkamu/Dataset/From Toronto Police acessed on Feb 02_2020/MCI_2014_to_2018.csv')\n",
    "mci_df.head(2)"
   ]
  },
  {
   "cell_type": "code",
   "execution_count": 5,
   "metadata": {},
   "outputs": [
    {
     "data": {
      "text/plain": [
       "(167525, 29)"
      ]
     },
     "execution_count": 5,
     "metadata": {},
     "output_type": "execute_result"
    }
   ],
   "source": [
    "mci_df.shape"
   ]
  },
  {
   "cell_type": "code",
   "execution_count": 6,
   "metadata": {},
   "outputs": [],
   "source": [
    "# convert dates to pandas datetime format\n",
    "mci_df.occurrencedate = pd.to_datetime(mci_df.occurrencedate).dt.tz_localize(None)\n",
    "mci_df.reporteddate = pd.to_datetime(mci_df.reporteddate).dt.tz_localize(None)"
   ]
  },
  {
   "cell_type": "code",
   "execution_count": 7,
   "metadata": {},
   "outputs": [
    {
     "data": {
      "text/html": [
       "<div>\n",
       "<style scoped>\n",
       "    .dataframe tbody tr th:only-of-type {\n",
       "        vertical-align: middle;\n",
       "    }\n",
       "\n",
       "    .dataframe tbody tr th {\n",
       "        vertical-align: top;\n",
       "    }\n",
       "\n",
       "    .dataframe thead th {\n",
       "        text-align: right;\n",
       "    }\n",
       "</style>\n",
       "<table border=\"1\" class=\"dataframe\">\n",
       "  <thead>\n",
       "    <tr style=\"text-align: right;\">\n",
       "      <th></th>\n",
       "      <th>X</th>\n",
       "      <th>Y</th>\n",
       "      <th>Index_</th>\n",
       "      <th>event_unique_id</th>\n",
       "      <th>occurrencedate</th>\n",
       "      <th>reporteddate</th>\n",
       "      <th>premisetype</th>\n",
       "      <th>ucr_code</th>\n",
       "      <th>ucr_ext</th>\n",
       "      <th>offence</th>\n",
       "      <th>...</th>\n",
       "      <th>occurrencedayofyear</th>\n",
       "      <th>occurrencedayofweek</th>\n",
       "      <th>occurrencehour</th>\n",
       "      <th>MCI</th>\n",
       "      <th>Division</th>\n",
       "      <th>Hood_ID</th>\n",
       "      <th>Neighbourhood</th>\n",
       "      <th>Lat</th>\n",
       "      <th>Long</th>\n",
       "      <th>ObjectId</th>\n",
       "    </tr>\n",
       "  </thead>\n",
       "  <tbody>\n",
       "    <tr>\n",
       "      <th>0</th>\n",
       "      <td>-79.385193</td>\n",
       "      <td>43.659229</td>\n",
       "      <td>2349</td>\n",
       "      <td>GO-20149004286</td>\n",
       "      <td>2014-06-20 10:55:00</td>\n",
       "      <td>2014-06-20 13:20:00</td>\n",
       "      <td>Apartment</td>\n",
       "      <td>2130</td>\n",
       "      <td>210</td>\n",
       "      <td>Theft Over</td>\n",
       "      <td>...</td>\n",
       "      <td>171.0</td>\n",
       "      <td>Friday</td>\n",
       "      <td>10</td>\n",
       "      <td>Theft Over</td>\n",
       "      <td>D52</td>\n",
       "      <td>76</td>\n",
       "      <td>Bay Street Corridor (76)</td>\n",
       "      <td>43.659229</td>\n",
       "      <td>-79.385193</td>\n",
       "      <td>2001</td>\n",
       "    </tr>\n",
       "    <tr>\n",
       "      <th>1</th>\n",
       "      <td>-79.425400</td>\n",
       "      <td>43.777592</td>\n",
       "      <td>2350</td>\n",
       "      <td>GO-20142411379</td>\n",
       "      <td>2014-07-02 00:20:00</td>\n",
       "      <td>2014-07-02 02:58:00</td>\n",
       "      <td>Outside</td>\n",
       "      <td>1457</td>\n",
       "      <td>100</td>\n",
       "      <td>Pointing A Firearm</td>\n",
       "      <td>...</td>\n",
       "      <td>183.0</td>\n",
       "      <td>Wednesday</td>\n",
       "      <td>0</td>\n",
       "      <td>Assault</td>\n",
       "      <td>D32</td>\n",
       "      <td>36</td>\n",
       "      <td>Newtonbrook West (36)</td>\n",
       "      <td>43.777592</td>\n",
       "      <td>-79.425400</td>\n",
       "      <td>2002</td>\n",
       "    </tr>\n",
       "  </tbody>\n",
       "</table>\n",
       "<p>2 rows × 29 columns</p>\n",
       "</div>"
      ],
      "text/plain": [
       "           X          Y  Index_ event_unique_id      occurrencedate  \\\n",
       "0 -79.385193  43.659229    2349  GO-20149004286 2014-06-20 10:55:00   \n",
       "1 -79.425400  43.777592    2350  GO-20142411379 2014-07-02 00:20:00   \n",
       "\n",
       "         reporteddate premisetype  ucr_code  ucr_ext             offence  ...  \\\n",
       "0 2014-06-20 13:20:00   Apartment      2130      210          Theft Over  ...   \n",
       "1 2014-07-02 02:58:00     Outside      1457      100  Pointing A Firearm  ...   \n",
       "\n",
       "   occurrencedayofyear occurrencedayofweek  occurrencehour         MCI  \\\n",
       "0                171.0          Friday                  10  Theft Over   \n",
       "1                183.0          Wednesday                0     Assault   \n",
       "\n",
       "  Division  Hood_ID             Neighbourhood        Lat       Long  ObjectId  \n",
       "0      D52       76  Bay Street Corridor (76)  43.659229 -79.385193      2001  \n",
       "1      D32       36     Newtonbrook West (36)  43.777592 -79.425400      2002  \n",
       "\n",
       "[2 rows x 29 columns]"
      ]
     },
     "execution_count": 7,
     "metadata": {},
     "output_type": "execute_result"
    }
   ],
   "source": [
    "mci_df.head(2)"
   ]
  },
  {
   "cell_type": "code",
   "execution_count": 8,
   "metadata": {},
   "outputs": [
    {
     "name": "stdout",
     "output_type": "stream",
     "text": [
      "<class 'pandas.core.frame.DataFrame'>\n",
      "RangeIndex: 167525 entries, 0 to 167524\n",
      "Data columns (total 29 columns):\n",
      " #   Column               Non-Null Count   Dtype         \n",
      "---  ------               --------------   -----         \n",
      " 0   X                    167525 non-null  float64       \n",
      " 1   Y                    167525 non-null  float64       \n",
      " 2   Index_               167525 non-null  int64         \n",
      " 3   event_unique_id      167525 non-null  object        \n",
      " 4   occurrencedate       167525 non-null  datetime64[ns]\n",
      " 5   reporteddate         167525 non-null  datetime64[ns]\n",
      " 6   premisetype          167525 non-null  object        \n",
      " 7   ucr_code             167525 non-null  int64         \n",
      " 8   ucr_ext              167525 non-null  int64         \n",
      " 9   offence              167525 non-null  object        \n",
      " 10  reportedyear         167525 non-null  int64         \n",
      " 11  reportedmonth        167525 non-null  object        \n",
      " 12  reportedday          167525 non-null  int64         \n",
      " 13  reporteddayofyear    167525 non-null  int64         \n",
      " 14  reporteddayofweek    167525 non-null  object        \n",
      " 15  reportedhour         167525 non-null  int64         \n",
      " 16  occurrenceyear       167476 non-null  float64       \n",
      " 17  occurrencemonth      167476 non-null  object        \n",
      " 18  occurrenceday        167476 non-null  float64       \n",
      " 19  occurrencedayofyear  167476 non-null  float64       \n",
      " 20  occurrencedayofweek  167476 non-null  object        \n",
      " 21  occurrencehour       167525 non-null  int64         \n",
      " 22  MCI                  167525 non-null  object        \n",
      " 23  Division             167525 non-null  object        \n",
      " 24  Hood_ID              167525 non-null  int64         \n",
      " 25  Neighbourhood        167525 non-null  object        \n",
      " 26  Lat                  167525 non-null  float64       \n",
      " 27  Long                 167525 non-null  float64       \n",
      " 28  ObjectId             167525 non-null  int64         \n",
      "dtypes: datetime64[ns](2), float64(7), int64(10), object(10)\n",
      "memory usage: 37.1+ MB\n"
     ]
    }
   ],
   "source": [
    "mci_df.info()"
   ]
  },
  {
   "cell_type": "code",
   "execution_count": 9,
   "metadata": {},
   "outputs": [
    {
     "data": {
      "text/plain": [
       "167525"
      ]
     },
     "execution_count": 9,
     "metadata": {},
     "output_type": "execute_result"
    }
   ],
   "source": [
    "len(mci_df)"
   ]
  },
  {
   "cell_type": "markdown",
   "metadata": {},
   "source": [
    "We can leave event_unique_id, division, Neighbourhood as an object, \n",
    "\n",
    "We may need to convert premisetype, offence, reportedmonth, reporteddayofweek, occurencemonth, occurencedayofweek, MCI to categorical columns/factors.\n",
    "In case of morethan 31 we will only keep the most frequent categories of up to 31 and will may need to lable the rest to others."
   ]
  },
  {
   "cell_type": "code",
   "execution_count": 15,
   "metadata": {},
   "outputs": [],
   "source": [
    "#converting premisetype to categorical type\n",
    "premisetype_cat  = list(mci_df['premisetype'].value_counts()[10:].index)\n",
    "#we can latter change the grouping index based on input from the group\n",
    "mci_df.loc[mci_df['premisetype'].isin(premisetype_cat) , mci_df.columns=='premisetype'] = 'OTHER'\n",
    "mci_df['premisetype'] = pd.Categorical(mci_df['premisetype'])"
   ]
  },
  {
   "cell_type": "code",
   "execution_count": 16,
   "metadata": {},
   "outputs": [],
   "source": [
    "#converting offence to categorical type\n",
    "offence_cat  = list(mci_df['offence'].value_counts()[12:].index)\n",
    "mci_df.loc[mci_df['offence'].isin(offence_cat) , mci_df.columns=='offence'] = 'OTHER'\n",
    "mci_df['offence'] = pd.Categorical(mci_df['offence'])"
   ]
  },
  {
   "cell_type": "code",
   "execution_count": 17,
   "metadata": {},
   "outputs": [],
   "source": [
    "#converting reportedmonth in to categorical type\n",
    "mci_df['reportedmonth'] = pd.Categorical(mci_df['reportedmonth'])"
   ]
  },
  {
   "cell_type": "code",
   "execution_count": 18,
   "metadata": {},
   "outputs": [],
   "source": [
    "#converting reporteddayofweek in to categorical type\n",
    "mci_df['reporteddayofweek'] = pd.Categorical(mci_df['reporteddayofweek'])"
   ]
  },
  {
   "cell_type": "code",
   "execution_count": 19,
   "metadata": {},
   "outputs": [],
   "source": [
    "#converting occurencemonth in to categorical type\n",
    "mci_df['occurrencemonth'] = pd.Categorical(mci_df['occurrencemonth'])"
   ]
  },
  {
   "cell_type": "code",
   "execution_count": 20,
   "metadata": {},
   "outputs": [],
   "source": [
    "#converting occurencedayofweek in to categorical type\n",
    "mci_df['occurencedayofweek'] = pd.Categorical(mci_df['occurrencedayofweek'])"
   ]
  },
  {
   "cell_type": "code",
   "execution_count": 22,
   "metadata": {},
   "outputs": [],
   "source": [
    "#converting MCI in to categorical type\n",
    "MCI_cat  = list(mci_df['MCI'].value_counts()[12:].index)\n",
    "mci_df.loc[mci_df['MCI'].isin(MCI_cat) , mci_df.columns=='MCI'] = 'OTHER'\n",
    "mci_df['MCI'] = pd.Categorical(mci_df['MCI'])"
   ]
  },
  {
   "cell_type": "code",
   "execution_count": 23,
   "metadata": {},
   "outputs": [
    {
     "data": {
      "text/html": [
       "<div>\n",
       "<style scoped>\n",
       "    .dataframe tbody tr th:only-of-type {\n",
       "        vertical-align: middle;\n",
       "    }\n",
       "\n",
       "    .dataframe tbody tr th {\n",
       "        vertical-align: top;\n",
       "    }\n",
       "\n",
       "    .dataframe thead th {\n",
       "        text-align: right;\n",
       "    }\n",
       "</style>\n",
       "<table border=\"1\" class=\"dataframe\">\n",
       "  <thead>\n",
       "    <tr style=\"text-align: right;\">\n",
       "      <th></th>\n",
       "      <th>X</th>\n",
       "      <th>Y</th>\n",
       "      <th>Index_</th>\n",
       "      <th>event_unique_id</th>\n",
       "      <th>occurrencedate</th>\n",
       "      <th>reporteddate</th>\n",
       "      <th>premisetype</th>\n",
       "      <th>ucr_code</th>\n",
       "      <th>ucr_ext</th>\n",
       "      <th>offence</th>\n",
       "      <th>...</th>\n",
       "      <th>occurrencedayofweek</th>\n",
       "      <th>occurrencehour</th>\n",
       "      <th>MCI</th>\n",
       "      <th>Division</th>\n",
       "      <th>Hood_ID</th>\n",
       "      <th>Neighbourhood</th>\n",
       "      <th>Lat</th>\n",
       "      <th>Long</th>\n",
       "      <th>ObjectId</th>\n",
       "      <th>occurencedayofweek</th>\n",
       "    </tr>\n",
       "  </thead>\n",
       "  <tbody>\n",
       "    <tr>\n",
       "      <th>0</th>\n",
       "      <td>-79.385193</td>\n",
       "      <td>43.659229</td>\n",
       "      <td>2349</td>\n",
       "      <td>GO-20149004286</td>\n",
       "      <td>2014-06-20 10:55:00</td>\n",
       "      <td>2014-06-20 13:20:00</td>\n",
       "      <td>Apartment</td>\n",
       "      <td>2130</td>\n",
       "      <td>210</td>\n",
       "      <td>Theft Over</td>\n",
       "      <td>...</td>\n",
       "      <td>Friday</td>\n",
       "      <td>10</td>\n",
       "      <td>Theft Over</td>\n",
       "      <td>D52</td>\n",
       "      <td>76</td>\n",
       "      <td>Bay Street Corridor (76)</td>\n",
       "      <td>43.659229</td>\n",
       "      <td>-79.385193</td>\n",
       "      <td>2001</td>\n",
       "      <td>Friday</td>\n",
       "    </tr>\n",
       "    <tr>\n",
       "      <th>1</th>\n",
       "      <td>-79.425400</td>\n",
       "      <td>43.777592</td>\n",
       "      <td>2350</td>\n",
       "      <td>GO-20142411379</td>\n",
       "      <td>2014-07-02 00:20:00</td>\n",
       "      <td>2014-07-02 02:58:00</td>\n",
       "      <td>Outside</td>\n",
       "      <td>1457</td>\n",
       "      <td>100</td>\n",
       "      <td>OTHER</td>\n",
       "      <td>...</td>\n",
       "      <td>Wednesday</td>\n",
       "      <td>0</td>\n",
       "      <td>Assault</td>\n",
       "      <td>D32</td>\n",
       "      <td>36</td>\n",
       "      <td>Newtonbrook West (36)</td>\n",
       "      <td>43.777592</td>\n",
       "      <td>-79.425400</td>\n",
       "      <td>2002</td>\n",
       "      <td>Wednesday</td>\n",
       "    </tr>\n",
       "  </tbody>\n",
       "</table>\n",
       "<p>2 rows × 30 columns</p>\n",
       "</div>"
      ],
      "text/plain": [
       "           X          Y  Index_ event_unique_id      occurrencedate  \\\n",
       "0 -79.385193  43.659229    2349  GO-20149004286 2014-06-20 10:55:00   \n",
       "1 -79.425400  43.777592    2350  GO-20142411379 2014-07-02 00:20:00   \n",
       "\n",
       "         reporteddate premisetype  ucr_code  ucr_ext     offence  ...  \\\n",
       "0 2014-06-20 13:20:00   Apartment      2130      210  Theft Over  ...   \n",
       "1 2014-07-02 02:58:00     Outside      1457      100       OTHER  ...   \n",
       "\n",
       "   occurrencedayofweek occurrencehour         MCI  Division Hood_ID  \\\n",
       "0           Friday                 10  Theft Over       D52      76   \n",
       "1           Wednesday               0     Assault       D32      36   \n",
       "\n",
       "              Neighbourhood        Lat       Long  ObjectId  \\\n",
       "0  Bay Street Corridor (76)  43.659229 -79.385193      2001   \n",
       "1     Newtonbrook West (36)  43.777592 -79.425400      2002   \n",
       "\n",
       "   occurencedayofweek  \n",
       "0          Friday      \n",
       "1          Wednesday   \n",
       "\n",
       "[2 rows x 30 columns]"
      ]
     },
     "execution_count": 23,
     "metadata": {},
     "output_type": "execute_result"
    }
   ],
   "source": [
    "mci_df.head(2)"
   ]
  },
  {
   "cell_type": "code",
   "execution_count": 24,
   "metadata": {},
   "outputs": [
    {
     "name": "stdout",
     "output_type": "stream",
     "text": [
      "<class 'pandas.core.frame.DataFrame'>\n",
      "RangeIndex: 167525 entries, 0 to 167524\n",
      "Data columns (total 30 columns):\n",
      " #   Column               Non-Null Count   Dtype         \n",
      "---  ------               --------------   -----         \n",
      " 0   X                    167525 non-null  float64       \n",
      " 1   Y                    167525 non-null  float64       \n",
      " 2   Index_               167525 non-null  int64         \n",
      " 3   event_unique_id      167525 non-null  object        \n",
      " 4   occurrencedate       167525 non-null  datetime64[ns]\n",
      " 5   reporteddate         167525 non-null  datetime64[ns]\n",
      " 6   premisetype          167525 non-null  category      \n",
      " 7   ucr_code             167525 non-null  int64         \n",
      " 8   ucr_ext              167525 non-null  int64         \n",
      " 9   offence              167525 non-null  category      \n",
      " 10  reportedyear         167525 non-null  int64         \n",
      " 11  reportedmonth        167525 non-null  category      \n",
      " 12  reportedday          167525 non-null  int64         \n",
      " 13  reporteddayofyear    167525 non-null  int64         \n",
      " 14  reporteddayofweek    167525 non-null  category      \n",
      " 15  reportedhour         167525 non-null  int64         \n",
      " 16  occurrenceyear       167476 non-null  float64       \n",
      " 17  occurrencemonth      167476 non-null  category      \n",
      " 18  occurrenceday        167476 non-null  float64       \n",
      " 19  occurrencedayofyear  167476 non-null  float64       \n",
      " 20  occurrencedayofweek  167476 non-null  object        \n",
      " 21  occurrencehour       167525 non-null  int64         \n",
      " 22  MCI                  167525 non-null  category      \n",
      " 23  Division             167525 non-null  object        \n",
      " 24  Hood_ID              167525 non-null  int64         \n",
      " 25  Neighbourhood        167525 non-null  object        \n",
      " 26  Lat                  167525 non-null  float64       \n",
      " 27  Long                 167525 non-null  float64       \n",
      " 28  ObjectId             167525 non-null  int64         \n",
      " 29  occurencedayofweek   167476 non-null  category      \n",
      "dtypes: category(7), datetime64[ns](2), float64(7), int64(10), object(4)\n",
      "memory usage: 30.5+ MB\n"
     ]
    }
   ],
   "source": [
    "mci_df.info()"
   ]
  },
  {
   "cell_type": "code",
   "execution_count": 41,
   "metadata": {},
   "outputs": [
    {
     "name": "stdout",
     "output_type": "stream",
     "text": [
      "Duplicate values: False\n"
     ]
    }
   ],
   "source": [
    "#check for duplicates\n",
    "print('Duplicate values:',mci_df.duplicated().any())"
   ]
  },
  {
   "cell_type": "code",
   "execution_count": 2,
   "metadata": {},
   "outputs": [
    {
     "ename": "NameError",
     "evalue": "name 'mci_df' is not defined",
     "output_type": "error",
     "traceback": [
      "\u001b[1;31m---------------------------------------------------------------------------\u001b[0m",
      "\u001b[1;31mNameError\u001b[0m                                 Traceback (most recent call last)",
      "\u001b[1;32m<ipython-input-2-70734562ce21>\u001b[0m in \u001b[0;36m<module>\u001b[1;34m\u001b[0m\n\u001b[1;32m----> 1\u001b[1;33m \u001b[0mlen\u001b[0m\u001b[1;33m(\u001b[0m\u001b[0mmci_df\u001b[0m\u001b[1;33m)\u001b[0m\u001b[1;33m\u001b[0m\u001b[1;33m\u001b[0m\u001b[0m\n\u001b[0m",
      "\u001b[1;31mNameError\u001b[0m: name 'mci_df' is not defined"
     ]
    }
   ],
   "source": [
    "len(mci_df)"
   ]
  },
  {
   "cell_type": "code",
   "execution_count": 43,
   "metadata": {},
   "outputs": [
    {
     "name": "stdout",
     "output_type": "stream",
     "text": [
      "Missing Values\n"
     ]
    },
    {
     "data": {
      "text/plain": [
       "occurencedayofweek     49\n",
       "occurrencedayofweek    49\n",
       "occurrenceyear         49\n",
       "occurrencemonth        49\n",
       "occurrenceday          49\n",
       "occurrencedayofyear    49\n",
       "offence                 0\n",
       "ucr_ext                 0\n",
       "ucr_code                0\n",
       "reportedmonth           0\n",
       "premisetype             0\n",
       "reporteddate            0\n",
       "occurrencedate          0\n",
       "event_unique_id         0\n",
       "Index_                  0\n",
       "Y                       0\n",
       "reportedyear            0\n",
       "reporteddayofweek       0\n",
       "reportedday             0\n",
       "reporteddayofyear       0\n",
       "ObjectId                0\n",
       "reportedhour            0\n",
       "occurrencehour          0\n",
       "MCI                     0\n",
       "Division                0\n",
       "Hood_ID                 0\n",
       "Neighbourhood           0\n",
       "Lat                     0\n",
       "Long                    0\n",
       "X                       0\n",
       "dtype: int64"
      ]
     },
     "execution_count": 43,
     "metadata": {},
     "output_type": "execute_result"
    }
   ],
   "source": [
    "#check for missing values\n",
    "print('Missing Values')\n",
    "mci_df.isnull().sum().sort_values(ascending=False)"
   ]
  },
  {
   "cell_type": "code",
   "execution_count": 31,
   "metadata": {},
   "outputs": [],
   "source": [
    "# save and export the cleaned file in csv format\n",
    "export_csv = mci_df.to_csv (r'C:/Users/Melkamu/OneDrive - University of Kwazulu-Natal/Season7/YU/Course 1/Project 1/Melkamu/Dataset/From Toronto Police acessed on Feb 02_2020/mci_cleaned.csv', index = None, header=True) \n",
    "#Notethat Don't forget to add '.csv' at the end of the path\n"
   ]
  },
  {
   "cell_type": "markdown",
   "metadata": {},
   "source": [
    "Explanatory analysis"
   ]
  },
  {
   "cell_type": "code",
   "execution_count": 36,
   "metadata": {},
   "outputs": [],
   "source": [
    "mci_df.index = pd.DatetimeIndex(mci_df.occurrencedate)"
   ]
  },
  {
   "cell_type": "code",
   "execution_count": 38,
   "metadata": {},
   "outputs": [
    {
     "data": {
      "image/png": "[encoded data removed]",
      "text/plain": [
       "<Figure size 792x360 with 1 Axes>"
      ]
     },
     "metadata": {},
     "output_type": "display_data"
    }
   ],
   "source": [
    "\n",
    "plt.figure(figsize=(11,5))\n",
    "mci_df.resample('M').size().plot(legend=False)\n",
    "plt.title('Number of crimes per month (2014 - 2018)')\n",
    "plt.xlabel('Months')\n",
    "plt.ylabel('Number of crimes')\n",
    "plt.show()"
   ]
  },
  {
   "cell_type": "code",
   "execution_count": null,
   "metadata": {},
   "outputs": [],
   "source": []
  }
 ],
 "metadata": {
  "kernelspec": {
   "display_name": "Python 3",
   "language": "python",
   "name": "python3"
  },
  "language_info": {
   "codemirror_mode": {
    "name": "ipython",
    "version": 3
   },
   "file_extension": ".py",
   "mimetype": "text/x-python",
   "name": "python",
   "nbconvert_exporter": "python",
   "pygments_lexer": "ipython3",
   "version": "3.7.6"
  }
 },
 "nbformat": 4,
 "nbformat_minor": 4
}
